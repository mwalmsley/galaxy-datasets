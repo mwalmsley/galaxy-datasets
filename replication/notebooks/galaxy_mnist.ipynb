{
 "cells": [
  {
   "cell_type": "code",
   "execution_count": 1,
   "metadata": {},
   "outputs": [
    {
     "name": "stderr",
     "output_type": "stream",
     "text": [
      "/home/walml/miniforge3/envs/zoobot39_dev/lib/python3.9/site-packages/tqdm/auto.py:21: TqdmWarning: IProgress not found. Please update jupyter and ipywidgets. See https://ipywidgets.readthedocs.io/en/stable/user_install.html\n",
      "  from .autonotebook import tqdm as notebook_tqdm\n"
     ]
    }
   ],
   "source": [
    "\n",
    "import pandas as pd\n",
    "from PIL import Image\n",
    "\n",
    "from galaxy_mnist import GalaxyMNISTHighrez"
   ]
  },
  {
   "cell_type": "code",
   "execution_count": 2,
   "metadata": {},
   "outputs": [],
   "source": [
    "train_dataset = GalaxyMNISTHighrez(\n",
    "    root='/home/walml/repos/galaxy-datasets/data/external_data/galaxy_mnist',\n",
    "    download=True,\n",
    "    train=True  # by default, or set False for test set\n",
    ")\n",
    "test_dataset = GalaxyMNISTHighrez(\n",
    "    root='/home/walml/repos/galaxy-datasets/data/external_data/galaxy_mnist',\n",
    "    download=False,\n",
    "    train=False  # by default, or set False for test set\n",
    ")"
   ]
  },
  {
   "cell_type": "markdown",
   "metadata": {},
   "source": [
    "Unpack back into images and catalog"
   ]
  },
  {
   "cell_type": "code",
   "execution_count": 3,
   "metadata": {},
   "outputs": [],
   "source": [
    "train_images, train_labels = train_dataset.data.numpy().transpose(0, 2, 3, 1), train_dataset.targets\n",
    "test_images, test_labels = test_dataset.data.numpy().transpose(0, 2, 3, 1), test_dataset.targets"
   ]
  },
  {
   "cell_type": "code",
   "execution_count": 4,
   "metadata": {},
   "outputs": [
    {
     "data": {
      "text/plain": [
       "(8000, 224, 224, 3)"
      ]
     },
     "execution_count": 4,
     "metadata": {},
     "output_type": "execute_result"
    }
   ],
   "source": [
    "train_images.shape"
   ]
  },
  {
   "cell_type": "code",
   "execution_count": 5,
   "metadata": {},
   "outputs": [],
   "source": [
    "subfolder = '/home/walml/repos/galaxy-datasets/data/external_data/galaxy_mnist/images'"
   ]
  },
  {
   "cell_type": "code",
   "execution_count": 6,
   "metadata": {},
   "outputs": [],
   "source": [
    "train_df = pd.DataFrame(data={'id_str': ['train_galaxy_' + str(n) for n in range(len(train_images))]})\n",
    "train_df['label'] = train_labels\n",
    "train_df['filename'] = train_df['id_str'] + '.jpg'\n",
    "train_df['file_loc'] = subfolder + '/' + train_df['filename']\n",
    "\n",
    "test_df = pd.DataFrame(data={'id_str': ['test_galaxy_' + str(n) for n in range(len(test_images))]})\n",
    "test_df['label'] = test_labels\n",
    "test_df['filename'] = test_df['id_str'] + '.jpg'\n",
    "test_df['file_loc'] = subfolder + '/' + test_df['filename']\n",
    "\n",
    "assert len(set(train_df['id_str']).intersection(set(test_df['id_str']))) == 0\n"
   ]
  },
  {
   "cell_type": "code",
   "execution_count": 7,
   "metadata": {},
   "outputs": [
    {
     "data": {
      "text/plain": [
       "(8000, 224, 224, 3)"
      ]
     },
     "execution_count": 7,
     "metadata": {},
     "output_type": "execute_result"
    }
   ],
   "source": [
    "train_images.shape"
   ]
  },
  {
   "cell_type": "code",
   "execution_count": 9,
   "metadata": {},
   "outputs": [],
   "source": [
    "for galaxy_n, galaxy in train_df.iterrows():\n",
    "    image = train_images[galaxy_n]\n",
    "    Image.fromarray(image).save(galaxy['file_loc'])\n",
    "\n",
    "for galaxy_n, galaxy in test_df.iterrows():\n",
    "    image = test_images[galaxy_n]\n",
    "    Image.fromarray(image).save(galaxy['file_loc'])"
   ]
  },
  {
   "cell_type": "code",
   "execution_count": 10,
   "metadata": {},
   "outputs": [
    {
     "name": "stderr",
     "output_type": "stream",
     "text": [
      "/home/walml/miniforge3/envs/zoobot39_dev/lib/python3.9/site-packages/pyarrow/pandas_compat.py:373: FutureWarning: is_sparse is deprecated and will be removed in a future version. Check `isinstance(dtype, pd.SparseDtype)` instead.\n",
      "  if _pandas_api.is_sparse(col):\n"
     ]
    }
   ],
   "source": [
    "train_catalog_loc = '/home/walml/repos/galaxy-datasets/roots/galaxy_mnist/galaxy_mnist_train_catalog.parquet'\n",
    "test_catalog_loc = '/home/walml/repos/galaxy-datasets/roots/galaxy_mnist/galaxy_mnist_test_catalog.parquet'\n",
    "\n",
    "train_df.to_parquet(train_catalog_loc, index=False)\n",
    "test_df.to_parquet(test_catalog_loc, index=False)"
   ]
  },
  {
   "cell_type": "code",
   "execution_count": 11,
   "metadata": {},
   "outputs": [],
   "source": [
    "# tar czvf galaxy_mnist_images.tar.gz images"
   ]
  },
  {
   "cell_type": "code",
   "execution_count": 13,
   "metadata": {},
   "outputs": [
    {
     "name": "stdout",
     "output_type": "stream",
     "text": [
      "cd22b21d165802f4bc1adf997424aec2\n",
      "c5cca8d8afb6fb0d59baeb310a35d594\n",
      "1c6cb0447f2f7ed676c3363ee194ced9\n"
     ]
    }
   ],
   "source": [
    "import hashlib\n",
    "\n",
    "for loc in [\n",
    "    train_catalog_loc,\n",
    "    test_catalog_loc,\n",
    "    '/home/walml/repos/galaxy-datasets/data/external_data/galaxy_mnist/galaxy_mnist_images.tar.gz'\n",
    "]:\n",
    "    # print hash\n",
    "    with open(loc, 'rb') as f:\n",
    "        md5_checksum = hashlib.md5(f.read()).hexdigest()\n",
    "\n",
    "    print(md5_checksum)"
   ]
  },
  {
   "cell_type": "code",
   "execution_count": null,
   "metadata": {},
   "outputs": [],
   "source": []
  }
 ],
 "metadata": {
  "kernelspec": {
   "display_name": "zoobot39_dev",
   "language": "python",
   "name": "python3"
  },
  "language_info": {
   "codemirror_mode": {
    "name": "ipython",
    "version": 3
   },
   "file_extension": ".py",
   "mimetype": "text/x-python",
   "name": "python",
   "nbconvert_exporter": "python",
   "pygments_lexer": "ipython3",
   "version": "3.9.0"
  }
 },
 "nbformat": 4,
 "nbformat_minor": 2
}
