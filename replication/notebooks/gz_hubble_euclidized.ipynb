{
 "cells": [
  {
   "cell_type": "code",
   "execution_count": 1,
   "metadata": {},
   "outputs": [],
   "source": [
    "# this external data was originally created and sent by Ben Aussel\n",
    "# he investigated applying Zoobot to these Euclidized images\n",
    "\n",
    "# original download links are by email from Ben to Mike\n",
    "\n",
    "# the train/test split is exactly the same as for GZ Hubble (i.e. this train catalog has the same galaxies as GZ Hubble train catalog, etc)"
   ]
  },
  {
   "cell_type": "code",
   "execution_count": 2,
   "metadata": {},
   "outputs": [
    {
     "name": "stdout",
     "output_type": "stream",
     "text": [
      "99a92bb1abd47966f77a7b04e4e310ac\n",
      "4f628f5e7d3282fbfa7ed4b0d7d91b11\n",
      "baee3a003631be238bb9cd6650cf03bf\n"
     ]
    }
   ],
   "source": [
    "import hashlib\n",
    "\n",
    "\n",
    "for loc in [\n",
    "    '/nvme1/scratch/walml/repos/galaxy-datasets/data/external_data/gz_candels_euclidized/catalog_euclid_train.parquet',\n",
    "    '/nvme1/scratch/walml/repos/galaxy-datasets/data/external_data/gz_candels_euclidized/catalog_euclid_test.parquet',\n",
    "    '/nvme1/scratch/walml/repos/galaxy-datasets/data/external_data/gz_candels_euclidized/images.tar.gz'\n",
    "]:\n",
    "    # print hash\n",
    "    with open(loc, 'rb') as f:\n",
    "        md5_checksum = hashlib.md5(f.read()).hexdigest()\n",
    "\n",
    "    print(md5_checksum)"
   ]
  }
 ],
 "metadata": {
  "interpreter": {
   "hash": "5ec7511d1fc7a72aba078c8815c4bcacd5404aac7a6282065ad4abec249876bb"
  },
  "kernelspec": {
   "display_name": "Python 3.7.11 ('zoobot')",
   "language": "python",
   "name": "python3"
  },
  "language_info": {
   "codemirror_mode": {
    "name": "ipython",
    "version": 3
   },
   "file_extension": ".py",
   "mimetype": "text/x-python",
   "name": "python",
   "nbconvert_exporter": "python",
   "pygments_lexer": "ipython3",
   "version": "3.7.11"
  },
  "orig_nbformat": 4
 },
 "nbformat": 4,
 "nbformat_minor": 2
}
