{
 "cells": [
  {
   "cell_type": "code",
   "execution_count": 82,
   "metadata": {},
   "outputs": [],
   "source": [
    "import os\n",
    "\n",
    "import pandas as pd\n",
    "import numpy as np\n",
    "from PIL import Image\n",
    "\n",
    "from shared_astro_utils.matching_utils import match_galaxies_to_catalog_pandas\n",
    "\n",
    "from galaxy_datasets.shared import label_metadata\n",
    "from zoobot.shared import schemas"
   ]
  },
  {
   "cell_type": "code",
   "execution_count": 83,
   "metadata": {},
   "outputs": [],
   "source": [
    "# final version of https://github.com/mwalmsley/curation-datasets/blob/main/notebooks/rename_gz2_catalog.ipynb"
   ]
  },
  {
   "cell_type": "code",
   "execution_count": 84,
   "metadata": {},
   "outputs": [],
   "source": [
    "# hart = pd.read_csv('/run/media/walml/beta/galaxy_zoo/gz2/subjects/gz2_hart16.csv')\n",
    "# len(hart)"
   ]
  },
  {
   "cell_type": "code",
   "execution_count": 85,
   "metadata": {},
   "outputs": [
    {
     "data": {
      "text/plain": [
       "239695"
      ]
     },
     "execution_count": 85,
     "metadata": {},
     "output_type": "execute_result"
    }
   ],
   "source": [
    "# TODO I think is is a renaming of hart 2016\n",
    "master_df = pd.read_parquet('/run/media/walml/beta/galaxy_zoo/gz2/subjects/image_master_catalog.parquet')\n",
    "\"\"\"\n",
    "original    209294\n",
    "extra        21844\n",
    "stripe82      8557\n",
    "\"\"\"\n",
    "len(master_df)\n",
    "\n"
   ]
  },
  {
   "cell_type": "code",
   "execution_count": 86,
   "metadata": {},
   "outputs": [
    {
     "data": {
      "text/plain": [
       "239695"
      ]
     },
     "execution_count": 86,
     "metadata": {},
     "output_type": "execute_result"
    }
   ],
   "source": [
    "save_loc = '/run/media/walml/beta/galaxy_zoo/gz2/subjects/gz2_catalog_with_modern_schema_inc_stripe82.parquet'\n",
    "\n",
    "# original sample only\n",
    "# save_loc = '/run/media/walml/beta/galaxy_zoo/gz2/subjects/gz2_catalog_with_modern_schema.parquet'\n",
    "# master_df = master_df.query('sample == \"original\"')\n",
    "\n",
    "\n",
    "len(master_df)"
   ]
  },
  {
   "cell_type": "code",
   "execution_count": 87,
   "metadata": {},
   "outputs": [
    {
     "name": "stderr",
     "output_type": "stream",
     "text": [
      "/nvme1/scratch/miniconda3/envs/zoobot/lib/python3.7/site-packages/pandas/core/indexing.py:1667: SettingWithCopyWarning: \n",
      "A value is trying to be set on a copy of a slice from a DataFrame.\n",
      "Try using .loc[row_indexer,col_indexer] = value instead\n",
      "\n",
      "See the caveats in the documentation: https://pandas.pydata.org/pandas-docs/stable/user_guide/indexing.html#returning-a-view-versus-a-copy\n",
      "  self.obj[key] = value\n"
     ]
    },
    {
     "data": {
      "text/html": [
       "<div>\n",
       "<style scoped>\n",
       "    .dataframe tbody tr th:only-of-type {\n",
       "        vertical-align: middle;\n",
       "    }\n",
       "\n",
       "    .dataframe tbody tr th {\n",
       "        vertical-align: top;\n",
       "    }\n",
       "\n",
       "    .dataframe thead th {\n",
       "        text-align: right;\n",
       "    }\n",
       "</style>\n",
       "<table border=\"1\" class=\"dataframe\">\n",
       "  <thead>\n",
       "    <tr style=\"text-align: right;\">\n",
       "      <th></th>\n",
       "      <th>dr7objid</th>\n",
       "      <th>png_loc</th>\n",
       "      <th>sample</th>\n",
       "      <th>ra</th>\n",
       "      <th>dec</th>\n",
       "      <th>smooth-or-featured-gz2_smooth</th>\n",
       "      <th>smooth-or-featured-gz2_featured-or-disk</th>\n",
       "      <th>smooth-or-featured-gz2_artifact</th>\n",
       "      <th>disk-edge-on-gz2_yes</th>\n",
       "      <th>disk-edge-on-gz2_no</th>\n",
       "      <th>...</th>\n",
       "      <th>bulge-shape-gz2_no-bulge</th>\n",
       "      <th>spiral-winding-gz2_tight</th>\n",
       "      <th>spiral-winding-gz2_medium</th>\n",
       "      <th>spiral-winding-gz2_loose</th>\n",
       "      <th>spiral-arm-count-gz2_1</th>\n",
       "      <th>spiral-arm-count-gz2_2</th>\n",
       "      <th>spiral-arm-count-gz2_3</th>\n",
       "      <th>spiral-arm-count-gz2_4</th>\n",
       "      <th>spiral-arm-count-gz2_more-than-4</th>\n",
       "      <th>spiral-arm-count-gz2_cant-tell</th>\n",
       "    </tr>\n",
       "  </thead>\n",
       "  <tbody>\n",
       "    <tr>\n",
       "      <th>0</th>\n",
       "      <td>587732591714893851</td>\n",
       "      <td>/raid/scratch/walml/galaxy_zoo/gz2/png/587732/...</td>\n",
       "      <td>original</td>\n",
       "      <td>179.042984</td>\n",
       "      <td>60.522518</td>\n",
       "      <td>0</td>\n",
       "      <td>42</td>\n",
       "      <td>3</td>\n",
       "      <td>2</td>\n",
       "      <td>40</td>\n",
       "      <td>...</td>\n",
       "      <td>0</td>\n",
       "      <td>27</td>\n",
       "      <td>12</td>\n",
       "      <td>1</td>\n",
       "      <td>0</td>\n",
       "      <td>3</td>\n",
       "      <td>1</td>\n",
       "      <td>2</td>\n",
       "      <td>18</td>\n",
       "      <td>16</td>\n",
       "    </tr>\n",
       "    <tr>\n",
       "      <th>1</th>\n",
       "      <td>588009368545984617</td>\n",
       "      <td>/raid/scratch/walml/galaxy_zoo/gz2/png/588009/...</td>\n",
       "      <td>original</td>\n",
       "      <td>135.084396</td>\n",
       "      <td>52.494240</td>\n",
       "      <td>1</td>\n",
       "      <td>41</td>\n",
       "      <td>0</td>\n",
       "      <td>0</td>\n",
       "      <td>41</td>\n",
       "      <td>...</td>\n",
       "      <td>0</td>\n",
       "      <td>35</td>\n",
       "      <td>4</td>\n",
       "      <td>2</td>\n",
       "      <td>0</td>\n",
       "      <td>4</td>\n",
       "      <td>2</td>\n",
       "      <td>1</td>\n",
       "      <td>21</td>\n",
       "      <td>13</td>\n",
       "    </tr>\n",
       "    <tr>\n",
       "      <th>2</th>\n",
       "      <td>587732484359913515</td>\n",
       "      <td>/raid/scratch/walml/galaxy_zoo/gz2/png/587732/...</td>\n",
       "      <td>original</td>\n",
       "      <td>183.371979</td>\n",
       "      <td>50.741508</td>\n",
       "      <td>28</td>\n",
       "      <td>5</td>\n",
       "      <td>3</td>\n",
       "      <td>0</td>\n",
       "      <td>5</td>\n",
       "      <td>...</td>\n",
       "      <td>0</td>\n",
       "      <td>0</td>\n",
       "      <td>0</td>\n",
       "      <td>0</td>\n",
       "      <td>0</td>\n",
       "      <td>0</td>\n",
       "      <td>0</td>\n",
       "      <td>0</td>\n",
       "      <td>0</td>\n",
       "      <td>0</td>\n",
       "    </tr>\n",
       "    <tr>\n",
       "      <th>3</th>\n",
       "      <td>587741723357282317</td>\n",
       "      <td>/raid/scratch/walml/galaxy_zoo/gz2/png/587741/...</td>\n",
       "      <td>original</td>\n",
       "      <td>186.251953</td>\n",
       "      <td>28.558598</td>\n",
       "      <td>1</td>\n",
       "      <td>27</td>\n",
       "      <td>0</td>\n",
       "      <td>1</td>\n",
       "      <td>26</td>\n",
       "      <td>...</td>\n",
       "      <td>1</td>\n",
       "      <td>16</td>\n",
       "      <td>8</td>\n",
       "      <td>1</td>\n",
       "      <td>0</td>\n",
       "      <td>2</td>\n",
       "      <td>6</td>\n",
       "      <td>5</td>\n",
       "      <td>6</td>\n",
       "      <td>6</td>\n",
       "    </tr>\n",
       "    <tr>\n",
       "      <th>4</th>\n",
       "      <td>587738410866966577</td>\n",
       "      <td>/raid/scratch/walml/galaxy_zoo/gz2/png/587738/...</td>\n",
       "      <td>original</td>\n",
       "      <td>161.086395</td>\n",
       "      <td>14.084465</td>\n",
       "      <td>33</td>\n",
       "      <td>8</td>\n",
       "      <td>2</td>\n",
       "      <td>1</td>\n",
       "      <td>7</td>\n",
       "      <td>...</td>\n",
       "      <td>0</td>\n",
       "      <td>0</td>\n",
       "      <td>0</td>\n",
       "      <td>0</td>\n",
       "      <td>0</td>\n",
       "      <td>0</td>\n",
       "      <td>0</td>\n",
       "      <td>0</td>\n",
       "      <td>0</td>\n",
       "      <td>0</td>\n",
       "    </tr>\n",
       "    <tr>\n",
       "      <th>...</th>\n",
       "      <td>...</td>\n",
       "      <td>...</td>\n",
       "      <td>...</td>\n",
       "      <td>...</td>\n",
       "      <td>...</td>\n",
       "      <td>...</td>\n",
       "      <td>...</td>\n",
       "      <td>...</td>\n",
       "      <td>...</td>\n",
       "      <td>...</td>\n",
       "      <td>...</td>\n",
       "      <td>...</td>\n",
       "      <td>...</td>\n",
       "      <td>...</td>\n",
       "      <td>...</td>\n",
       "      <td>...</td>\n",
       "      <td>...</td>\n",
       "      <td>...</td>\n",
       "      <td>...</td>\n",
       "      <td>...</td>\n",
       "      <td>...</td>\n",
       "    </tr>\n",
       "    <tr>\n",
       "      <th>239690</th>\n",
       "      <td>587741490371625059</td>\n",
       "      <td>/raid/scratch/walml/galaxy_zoo/gz2/png/587741/...</td>\n",
       "      <td>extra</td>\n",
       "      <td>167.542641</td>\n",
       "      <td>28.991866</td>\n",
       "      <td>34</td>\n",
       "      <td>7</td>\n",
       "      <td>1</td>\n",
       "      <td>6</td>\n",
       "      <td>1</td>\n",
       "      <td>...</td>\n",
       "      <td>6</td>\n",
       "      <td>0</td>\n",
       "      <td>0</td>\n",
       "      <td>0</td>\n",
       "      <td>0</td>\n",
       "      <td>0</td>\n",
       "      <td>0</td>\n",
       "      <td>0</td>\n",
       "      <td>0</td>\n",
       "      <td>0</td>\n",
       "    </tr>\n",
       "    <tr>\n",
       "      <th>239691</th>\n",
       "      <td>587731174917669027</td>\n",
       "      <td>/raid/scratch/walml/galaxy_zoo/gz2/png/587731/...</td>\n",
       "      <td>stripe82</td>\n",
       "      <td>316.108837</td>\n",
       "      <td>1.214799</td>\n",
       "      <td>25</td>\n",
       "      <td>12</td>\n",
       "      <td>9</td>\n",
       "      <td>0</td>\n",
       "      <td>12</td>\n",
       "      <td>...</td>\n",
       "      <td>0</td>\n",
       "      <td>0</td>\n",
       "      <td>0</td>\n",
       "      <td>0</td>\n",
       "      <td>0</td>\n",
       "      <td>0</td>\n",
       "      <td>0</td>\n",
       "      <td>0</td>\n",
       "      <td>0</td>\n",
       "      <td>0</td>\n",
       "    </tr>\n",
       "    <tr>\n",
       "      <th>239692</th>\n",
       "      <td>587731512070177108</td>\n",
       "      <td>/raid/scratch/walml/galaxy_zoo/gz2/png/587731/...</td>\n",
       "      <td>stripe82</td>\n",
       "      <td>21.690211</td>\n",
       "      <td>-0.546427</td>\n",
       "      <td>36</td>\n",
       "      <td>7</td>\n",
       "      <td>5</td>\n",
       "      <td>0</td>\n",
       "      <td>7</td>\n",
       "      <td>...</td>\n",
       "      <td>0</td>\n",
       "      <td>1</td>\n",
       "      <td>1</td>\n",
       "      <td>0</td>\n",
       "      <td>0</td>\n",
       "      <td>0</td>\n",
       "      <td>0</td>\n",
       "      <td>0</td>\n",
       "      <td>0</td>\n",
       "      <td>2</td>\n",
       "    </tr>\n",
       "    <tr>\n",
       "      <th>239693</th>\n",
       "      <td>587731513145688256</td>\n",
       "      <td>/raid/scratch/walml/galaxy_zoo/gz2/png/587731/...</td>\n",
       "      <td>stripe82</td>\n",
       "      <td>25.747144</td>\n",
       "      <td>0.360079</td>\n",
       "      <td>25</td>\n",
       "      <td>14</td>\n",
       "      <td>9</td>\n",
       "      <td>0</td>\n",
       "      <td>14</td>\n",
       "      <td>...</td>\n",
       "      <td>0</td>\n",
       "      <td>1</td>\n",
       "      <td>0</td>\n",
       "      <td>0</td>\n",
       "      <td>1</td>\n",
       "      <td>0</td>\n",
       "      <td>0</td>\n",
       "      <td>0</td>\n",
       "      <td>0</td>\n",
       "      <td>0</td>\n",
       "    </tr>\n",
       "    <tr>\n",
       "      <th>239694</th>\n",
       "      <td>588015507679805636</td>\n",
       "      <td>/raid/scratch/walml/galaxy_zoo/gz2/png/588015/...</td>\n",
       "      <td>stripe82</td>\n",
       "      <td>48.130631</td>\n",
       "      <td>-1.112244</td>\n",
       "      <td>36</td>\n",
       "      <td>10</td>\n",
       "      <td>3</td>\n",
       "      <td>2</td>\n",
       "      <td>8</td>\n",
       "      <td>...</td>\n",
       "      <td>1</td>\n",
       "      <td>0</td>\n",
       "      <td>0</td>\n",
       "      <td>0</td>\n",
       "      <td>0</td>\n",
       "      <td>0</td>\n",
       "      <td>0</td>\n",
       "      <td>0</td>\n",
       "      <td>0</td>\n",
       "      <td>0</td>\n",
       "    </tr>\n",
       "  </tbody>\n",
       "</table>\n",
       "<p>239695 rows × 35 columns</p>\n",
       "</div>"
      ],
      "text/plain": [
       "                  dr7objid                                            png_loc  \\\n",
       "0       587732591714893851  /raid/scratch/walml/galaxy_zoo/gz2/png/587732/...   \n",
       "1       588009368545984617  /raid/scratch/walml/galaxy_zoo/gz2/png/588009/...   \n",
       "2       587732484359913515  /raid/scratch/walml/galaxy_zoo/gz2/png/587732/...   \n",
       "3       587741723357282317  /raid/scratch/walml/galaxy_zoo/gz2/png/587741/...   \n",
       "4       587738410866966577  /raid/scratch/walml/galaxy_zoo/gz2/png/587738/...   \n",
       "...                    ...                                                ...   \n",
       "239690  587741490371625059  /raid/scratch/walml/galaxy_zoo/gz2/png/587741/...   \n",
       "239691  587731174917669027  /raid/scratch/walml/galaxy_zoo/gz2/png/587731/...   \n",
       "239692  587731512070177108  /raid/scratch/walml/galaxy_zoo/gz2/png/587731/...   \n",
       "239693  587731513145688256  /raid/scratch/walml/galaxy_zoo/gz2/png/587731/...   \n",
       "239694  588015507679805636  /raid/scratch/walml/galaxy_zoo/gz2/png/588015/...   \n",
       "\n",
       "          sample          ra        dec  smooth-or-featured-gz2_smooth  \\\n",
       "0       original  179.042984  60.522518                              0   \n",
       "1       original  135.084396  52.494240                              1   \n",
       "2       original  183.371979  50.741508                             28   \n",
       "3       original  186.251953  28.558598                              1   \n",
       "4       original  161.086395  14.084465                             33   \n",
       "...          ...         ...        ...                            ...   \n",
       "239690     extra  167.542641  28.991866                             34   \n",
       "239691  stripe82  316.108837   1.214799                             25   \n",
       "239692  stripe82   21.690211  -0.546427                             36   \n",
       "239693  stripe82   25.747144   0.360079                             25   \n",
       "239694  stripe82   48.130631  -1.112244                             36   \n",
       "\n",
       "        smooth-or-featured-gz2_featured-or-disk  \\\n",
       "0                                            42   \n",
       "1                                            41   \n",
       "2                                             5   \n",
       "3                                            27   \n",
       "4                                             8   \n",
       "...                                         ...   \n",
       "239690                                        7   \n",
       "239691                                       12   \n",
       "239692                                        7   \n",
       "239693                                       14   \n",
       "239694                                       10   \n",
       "\n",
       "        smooth-or-featured-gz2_artifact  disk-edge-on-gz2_yes  \\\n",
       "0                                     3                     2   \n",
       "1                                     0                     0   \n",
       "2                                     3                     0   \n",
       "3                                     0                     1   \n",
       "4                                     2                     1   \n",
       "...                                 ...                   ...   \n",
       "239690                                1                     6   \n",
       "239691                                9                     0   \n",
       "239692                                5                     0   \n",
       "239693                                9                     0   \n",
       "239694                                3                     2   \n",
       "\n",
       "        disk-edge-on-gz2_no  ...  bulge-shape-gz2_no-bulge  \\\n",
       "0                        40  ...                         0   \n",
       "1                        41  ...                         0   \n",
       "2                         5  ...                         0   \n",
       "3                        26  ...                         1   \n",
       "4                         7  ...                         0   \n",
       "...                     ...  ...                       ...   \n",
       "239690                    1  ...                         6   \n",
       "239691                   12  ...                         0   \n",
       "239692                    7  ...                         0   \n",
       "239693                   14  ...                         0   \n",
       "239694                    8  ...                         1   \n",
       "\n",
       "        spiral-winding-gz2_tight  spiral-winding-gz2_medium  \\\n",
       "0                             27                         12   \n",
       "1                             35                          4   \n",
       "2                              0                          0   \n",
       "3                             16                          8   \n",
       "4                              0                          0   \n",
       "...                          ...                        ...   \n",
       "239690                         0                          0   \n",
       "239691                         0                          0   \n",
       "239692                         1                          1   \n",
       "239693                         1                          0   \n",
       "239694                         0                          0   \n",
       "\n",
       "        spiral-winding-gz2_loose  spiral-arm-count-gz2_1  \\\n",
       "0                              1                       0   \n",
       "1                              2                       0   \n",
       "2                              0                       0   \n",
       "3                              1                       0   \n",
       "4                              0                       0   \n",
       "...                          ...                     ...   \n",
       "239690                         0                       0   \n",
       "239691                         0                       0   \n",
       "239692                         0                       0   \n",
       "239693                         0                       1   \n",
       "239694                         0                       0   \n",
       "\n",
       "        spiral-arm-count-gz2_2  spiral-arm-count-gz2_3  \\\n",
       "0                            3                       1   \n",
       "1                            4                       2   \n",
       "2                            0                       0   \n",
       "3                            2                       6   \n",
       "4                            0                       0   \n",
       "...                        ...                     ...   \n",
       "239690                       0                       0   \n",
       "239691                       0                       0   \n",
       "239692                       0                       0   \n",
       "239693                       0                       0   \n",
       "239694                       0                       0   \n",
       "\n",
       "        spiral-arm-count-gz2_4  spiral-arm-count-gz2_more-than-4  \\\n",
       "0                            2                                18   \n",
       "1                            1                                21   \n",
       "2                            0                                 0   \n",
       "3                            5                                 6   \n",
       "4                            0                                 0   \n",
       "...                        ...                               ...   \n",
       "239690                       0                                 0   \n",
       "239691                       0                                 0   \n",
       "239692                       0                                 0   \n",
       "239693                       0                                 0   \n",
       "239694                       0                                 0   \n",
       "\n",
       "        spiral-arm-count-gz2_cant-tell  \n",
       "0                                   16  \n",
       "1                                   13  \n",
       "2                                    0  \n",
       "3                                    6  \n",
       "4                                    0  \n",
       "...                                ...  \n",
       "239690                               0  \n",
       "239691                               0  \n",
       "239692                               2  \n",
       "239693                               0  \n",
       "239694                               0  \n",
       "\n",
       "[239695 rows x 35 columns]"
      ]
     },
     "execution_count": 87,
     "metadata": {},
     "output_type": "execute_result"
    }
   ],
   "source": [
    "renamer = {\n",
    "    't01_smooth_or_features_a01_smooth': 'smooth-or-featured-gz2_smooth',\n",
    "    't01_smooth_or_features_a02_features_or_disk': 'smooth-or-featured-gz2_featured-or-disk',\n",
    "    't01_smooth_or_features_a03_star_or_artifact': 'smooth-or-featured-gz2_artifact',\n",
    "    't02_edgeon_a04_yes': 'disk-edge-on-gz2_yes',\n",
    "    't02_edgeon_a05_no': 'disk-edge-on-gz2_no',\n",
    "    't03_bar_a06_bar': 'bar-gz2_yes',\n",
    "    't03_bar_a07_no_bar': 'bar-gz2_no',\n",
    "    't04_spiral_a08_spiral': 'has-spiral-arms-gz2_yes',\n",
    "    't04_spiral_a09_no_spiral': 'has-spiral-arms-gz2_no',\n",
    "    't05_bulge_prominence_a10_no_bulge': 'bulge-size-gz2_no',\n",
    "    't05_bulge_prominence_a11_just_noticeable': 'bulge-size-gz2_just-noticeable',\n",
    "    't05_bulge_prominence_a12_obvious': 'bulge-size-gz2_obvious',\n",
    "    't05_bulge_prominence_a13_dominant': 'bulge-size-gz2_dominant',\n",
    "    't06_odd_a14_yes': 'something-odd-gz2_yes',\n",
    "    't06_odd_a15_no': 'something-odd-gz2_no',\n",
    "    't07_rounded_a16_completely_round': 'how-rounded-gz2_round',\n",
    "    't07_rounded_a17_in_between': 'how-rounded-gz2_in-between',\n",
    "    't07_rounded_a18_cigar_shaped': 'how-rounded-gz2_cigar',\n",
    "    't09_bulge_shape_a25_rounded': 'bulge-shape-gz2_round',\n",
    "    't09_bulge_shape_a26_boxy': 'bulge-shape-gz2_boxy',\n",
    "    't09_bulge_shape_a27_no_bulge': 'bulge-shape-gz2_no-bulge',\n",
    "    't10_arms_winding_a28_tight': 'spiral-winding-gz2_tight',\n",
    "    't10_arms_winding_a29_medium': 'spiral-winding-gz2_medium',\n",
    "    't10_arms_winding_a30_loose': 'spiral-winding-gz2_loose',\n",
    "    't11_arms_number_a31_1': 'spiral-arm-count-gz2_1',\n",
    "    't11_arms_number_a32_2': 'spiral-arm-count-gz2_2',\n",
    "    't11_arms_number_a33_3': 'spiral-arm-count-gz2_3',\n",
    "    't11_arms_number_a34_4': 'spiral-arm-count-gz2_4',\n",
    "    't11_arms_number_a36_more_than_4': 'spiral-arm-count-gz2_more-than-4',\n",
    "    't11_arms_number_a37_cant_tell': 'spiral-arm-count-gz2_cant-tell'\n",
    "}\n",
    "\n",
    "renamer_with_count = dict([(key + '_count', value) for key, value in renamer.items()])\n",
    "\n",
    "# copy the key id columns\n",
    "df = master_df[['dr7objid', 'png_loc', 'sample', 'ra', 'dec']]\n",
    "\n",
    "# copy all label columns using renamer\n",
    "for key, value in renamer_with_count.items():\n",
    "    df.loc[:, value] = master_df[key]\n",
    "\n",
    "df\n"
   ]
  },
  {
   "cell_type": "code",
   "execution_count": 88,
   "metadata": {},
   "outputs": [
    {
     "name": "stderr",
     "output_type": "stream",
     "text": [
      "/nvme1/scratch/miniconda3/envs/zoobot/lib/python3.7/site-packages/ipykernel_launcher.py:22: SettingWithCopyWarning: \n",
      "A value is trying to be set on a copy of a slice from a DataFrame.\n",
      "Try using .loc[row_indexer,col_indexer] = value instead\n",
      "\n",
      "See the caveats in the documentation: https://pandas.pydata.org/pandas-docs/stable/user_guide/indexing.html#returning-a-view-versus-a-copy\n",
      "/nvme1/scratch/miniconda3/envs/zoobot/lib/python3.7/site-packages/ipykernel_launcher.py:25: SettingWithCopyWarning: \n",
      "A value is trying to be set on a copy of a slice from a DataFrame.\n",
      "Try using .loc[row_indexer,col_indexer] = value instead\n",
      "\n",
      "See the caveats in the documentation: https://pandas.pydata.org/pandas-docs/stable/user_guide/indexing.html#returning-a-view-versus-a-copy\n"
     ]
    }
   ],
   "source": [
    "\n",
    "# now the schema object will work, I can calculate fractions and totals\n",
    "\n",
    "question_answer_pairs = label_metadata.gz2_ortho_pairs\n",
    "dependencies = label_metadata.gz2_ortho_dependencies\n",
    "\n",
    "# dependencies = {\n",
    "#     'smooth-or-featured': None,  # always asked\n",
    "#     'disk-edge-on': 'smooth-or-featured_featured-or-disk',\n",
    "#     'has-spiral-arms': 'smooth-or-featured_featured-or-disk',\n",
    "#     'bar': 'smooth-or-featured_featured-or-disk',\n",
    "#     'bulge-size': 'smooth-or-featured_featured-or-disk',\n",
    "#     'how-rounded': 'smooth-or-featured_smooth',\n",
    "#     'bulge-shape': 'disk-edge-on_yes',  # gz2 only\n",
    "#     'edge-on-bulge': 'disk-edge-on_yes',\n",
    "#     'spiral-winding': 'has-spiral-arms_yes',\n",
    "#     'spiral-arm-count': 'has-spiral-arms_yes',\n",
    "#     'something-odd': None  # actually neglects the artifact branch\n",
    "# }\n",
    "\n",
    "schema = schemas.Schema(question_answer_pairs, dependencies)\n",
    "for question in schema.questions:\n",
    "    df[question.text + '_total-votes'] = df[[a.text for a in question.answers]].sum(axis=1)\n",
    "\n",
    "    for answer in question.answers:\n",
    "        df[answer.text + '_fraction'] = df[answer.text] / df[question.text + '_total-votes']\n",
    "\n",
    "\n",
    "\n"
   ]
  },
  {
   "cell_type": "code",
   "execution_count": 89,
   "metadata": {},
   "outputs": [
    {
     "name": "stderr",
     "output_type": "stream",
     "text": [
      "/nvme1/scratch/miniconda3/envs/zoobot/lib/python3.7/site-packages/ipykernel_launcher.py:3: SettingWithCopyWarning: \n",
      "A value is trying to be set on a copy of a slice from a DataFrame.\n",
      "Try using .loc[row_indexer,col_indexer] = value instead\n",
      "\n",
      "See the caveats in the documentation: https://pandas.pydata.org/pandas-docs/stable/user_guide/indexing.html#returning-a-view-versus-a-copy\n",
      "  This is separate from the ipykernel package so we can avoid doing imports until\n"
     ]
    },
    {
     "data": {
      "text/plain": [
       "'/run/media/walml/beta/galaxy_zoo/gz2/png/587732/587732591714893851.png'"
      ]
     },
     "execution_count": 89,
     "metadata": {},
     "output_type": "execute_result"
    }
   ],
   "source": [
    "# fix paths\n",
    "# will eventually remove this prepended string\n",
    "df['png_loc'] = df['png_loc'].str.replace('/raid/scratch/walml', '/run/media/walml/beta')\n",
    "df['png_loc'][0]\n"
   ]
  },
  {
   "cell_type": "code",
   "execution_count": 90,
   "metadata": {},
   "outputs": [],
   "source": [
    "# takes about 2 mins on lofar9\n",
    "# df['png_exists'] = df['png_loc'].apply(os.path.isfile)"
   ]
  },
  {
   "cell_type": "code",
   "execution_count": null,
   "metadata": {},
   "outputs": [],
   "source": []
  },
  {
   "cell_type": "code",
   "execution_count": 91,
   "metadata": {},
   "outputs": [],
   "source": [
    "# df[~df['png_exists']].squeeze()['png_loc']\n",
    "# # '/raid/scratch/walml/galaxy_zoo/gz2/png/587736/587736915146703138.png'\n",
    "# # literally 1 image missing..."
   ]
  },
  {
   "cell_type": "code",
   "execution_count": 92,
   "metadata": {},
   "outputs": [],
   "source": [
    "\n",
    "\n",
    "df = df[df['dr7objid'] != 587736915146703138]\n",
    "\n",
    "# label_df['file_exists'].value_counts()"
   ]
  },
  {
   "cell_type": "code",
   "execution_count": 93,
   "metadata": {},
   "outputs": [],
   "source": [
    "def get_jpg_loc(png_loc):\n",
    "    return png_loc.replace('png', 'jpg').replace('/run/media/walml/beta/galaxy_zoo/gz2' , '/home/walml/repos/galaxy-datasets/roots/gz2').replace('/jpg/', '/images/')"
   ]
  },
  {
   "cell_type": "code",
   "execution_count": 94,
   "metadata": {},
   "outputs": [],
   "source": [
    "\n",
    "def copy_jpg(png_loc):\n",
    "    jpg_loc = get_jpg_loc(png_loc)\n",
    "    jpg_dir = os.path.dirname(jpg_loc)\n",
    "    if not os.path.isdir(jpg_dir):\n",
    "        os.mkdir(jpg_dir)\n",
    "    if not os.path.isfile(jpg_loc):\n",
    "        # print(f'Making {jpg_loc}')\n",
    "        Image.open(png_loc).save(jpg_loc)\n"
   ]
  },
  {
   "cell_type": "code",
   "execution_count": 95,
   "metadata": {},
   "outputs": [],
   "source": [
    "# df['png_loc'].str.replace('png', 'jpg').str.replace('/run/media/walml/beta/galaxy_zoo/gz2' , '/home/walml/repos/galaxy-datasets/roots/gz2').iloc[0]"
   ]
  },
  {
   "cell_type": "code",
   "execution_count": 96,
   "metadata": {},
   "outputs": [
    {
     "data": {
      "text/plain": [
       "0         /run/media/walml/beta/galaxy_zoo/gz2/png/58773...\n",
       "1         /run/media/walml/beta/galaxy_zoo/gz2/png/58800...\n",
       "2         /run/media/walml/beta/galaxy_zoo/gz2/png/58773...\n",
       "3         /run/media/walml/beta/galaxy_zoo/gz2/png/58774...\n",
       "4         /run/media/walml/beta/galaxy_zoo/gz2/png/58773...\n",
       "                                ...                        \n",
       "239690    /run/media/walml/beta/galaxy_zoo/gz2/png/58774...\n",
       "239691    /run/media/walml/beta/galaxy_zoo/gz2/png/58773...\n",
       "239692    /run/media/walml/beta/galaxy_zoo/gz2/png/58773...\n",
       "239693    /run/media/walml/beta/galaxy_zoo/gz2/png/58773...\n",
       "239694    /run/media/walml/beta/galaxy_zoo/gz2/png/58801...\n",
       "Name: png_loc, Length: 239694, dtype: object"
      ]
     },
     "execution_count": 96,
     "metadata": {},
     "output_type": "execute_result"
    }
   ],
   "source": [
    "df['png_loc']"
   ]
  },
  {
   "cell_type": "code",
   "execution_count": 97,
   "metadata": {},
   "outputs": [],
   "source": [
    "copy_jpg(df['png_loc'][0])"
   ]
  },
  {
   "cell_type": "code",
   "execution_count": 98,
   "metadata": {},
   "outputs": [],
   "source": [
    "# now make jpg version of every png\n",
    "# takes about 40 mins from scratch\n",
    "\n",
    "# now includes all GZ2 images (inc. stripe82) not just the original set\n",
    "\n",
    "from PIL import Image\n",
    "\n",
    "from multiprocessing import Pool\n",
    "\n",
    "pool = Pool(20)\n",
    "\n",
    "_ = [_ for x in pool.imap_unordered(copy_jpg, df['png_loc'])]\n"
   ]
  },
  {
   "cell_type": "code",
   "execution_count": 99,
   "metadata": {},
   "outputs": [
    {
     "name": "stderr",
     "output_type": "stream",
     "text": [
      "/nvme1/scratch/miniconda3/envs/zoobot/lib/python3.7/site-packages/ipykernel_launcher.py:1: SettingWithCopyWarning: \n",
      "A value is trying to be set on a copy of a slice from a DataFrame.\n",
      "Try using .loc[row_indexer,col_indexer] = value instead\n",
      "\n",
      "See the caveats in the documentation: https://pandas.pydata.org/pandas-docs/stable/user_guide/indexing.html#returning-a-view-versus-a-copy\n",
      "  \"\"\"Entry point for launching an IPython kernel.\n",
      "/nvme1/scratch/miniconda3/envs/zoobot/lib/python3.7/site-packages/ipykernel_launcher.py:2: SettingWithCopyWarning: \n",
      "A value is trying to be set on a copy of a slice from a DataFrame.\n",
      "Try using .loc[row_indexer,col_indexer] = value instead\n",
      "\n",
      "See the caveats in the documentation: https://pandas.pydata.org/pandas-docs/stable/user_guide/indexing.html#returning-a-view-versus-a-copy\n",
      "  \n"
     ]
    }
   ],
   "source": [
    "df['file_loc'] = df['png_loc'].apply(get_jpg_loc)\n",
    "df['subfolder'] = df['file_loc'].apply(lambda x: os.path.basename(os.path.dirname(x)))"
   ]
  },
  {
   "cell_type": "code",
   "execution_count": 100,
   "metadata": {},
   "outputs": [
    {
     "name": "stderr",
     "output_type": "stream",
     "text": [
      "/nvme1/scratch/miniconda3/envs/zoobot/lib/python3.7/site-packages/ipykernel_launcher.py:2: SettingWithCopyWarning: \n",
      "A value is trying to be set on a copy of a slice from a DataFrame.\n",
      "Try using .loc[row_indexer,col_indexer] = value instead\n",
      "\n",
      "See the caveats in the documentation: https://pandas.pydata.org/pandas-docs/stable/user_guide/indexing.html#returning-a-view-versus-a-copy\n",
      "  \n"
     ]
    },
    {
     "data": {
      "text/plain": [
       "True    239694\n",
       "Name: file_exists, dtype: int64"
      ]
     },
     "execution_count": 100,
     "metadata": {},
     "output_type": "execute_result"
    }
   ],
   "source": [
    "# # now check all the jpgs made correctly\n",
    "df['file_exists'] = df['file_loc'].apply(os.path.isfile)\n",
    "df['file_exists'].value_counts()\n"
   ]
  },
  {
   "cell_type": "code",
   "execution_count": 101,
   "metadata": {},
   "outputs": [
    {
     "name": "stderr",
     "output_type": "stream",
     "text": [
      "/nvme1/scratch/miniconda3/envs/zoobot/lib/python3.7/site-packages/ipykernel_launcher.py:13: SettingWithCopyWarning: \n",
      "A value is trying to be set on a copy of a slice from a DataFrame.\n",
      "Try using .loc[row_indexer,col_indexer] = value instead\n",
      "\n",
      "See the caveats in the documentation: https://pandas.pydata.org/pandas-docs/stable/user_guide/indexing.html#returning-a-view-versus-a-copy\n",
      "  del sys.path[0]\n"
     ]
    },
    {
     "data": {
      "text/plain": [
       "True    239694\n",
       "Name: is_formatted_well, dtype: int64"
      ]
     },
     "execution_count": 101,
     "metadata": {},
     "output_type": "execute_result"
    }
   ],
   "source": [
    "from PIL import Image\n",
    "\n",
    "def is_formatted_well(loc, careful=False):\n",
    "    try:\n",
    "        im =  Image.open(loc)\n",
    "        if careful:\n",
    "            mean = np.array(im).mean()  # avoid lazy loading (very slow now, though, )\n",
    "        return im.size == (424, 424)\n",
    "    except:\n",
    "        return False\n",
    "\n",
    "# check all jpgs open correctly - if not, delete the bad ones and remake\n",
    "df['is_formatted_well'] = df['file_loc'].apply(is_formatted_well)\n",
    "df['is_formatted_well'].value_counts()\n"
   ]
  },
  {
   "cell_type": "code",
   "execution_count": 102,
   "metadata": {},
   "outputs": [],
   "source": [
    "# now ready to be tarred and uploaded to dropbox"
   ]
  },
  {
   "cell_type": "code",
   "execution_count": 103,
   "metadata": {},
   "outputs": [],
   "source": [
    "# TODO cross-match on sky with NSA here, for iauname\n",
    "\n",
    "# first need to join to hard to get ra/dec\n",
    "nsa = pd.read_parquet('/run/media/walml/beta/galaxy_zoo/decals/catalogs/nsa_v1_0_1_mag_cols.parquet', columns=['ra', 'dec', 'iauname'])"
   ]
  },
  {
   "cell_type": "code",
   "execution_count": 104,
   "metadata": {},
   "outputs": [
    {
     "name": "stderr",
     "output_type": "stream",
     "text": [
      "/nvme1/scratch/walml/repos/shared-astro-utilities/shared_astro_utils/matching_utils.py:46: SettingWithCopyWarning: \n",
      "A value is trying to be set on a copy of a slice from a DataFrame.\n",
      "Try using .loc[row_indexer,col_indexer] = value instead\n",
      "\n",
      "See the caveats in the documentation: https://pandas.pydata.org/pandas-docs/stable/user_guide/indexing.html#returning-a-view-versus-a-copy\n",
      "  galaxies['best_match'] = best_match_catalog_index\n",
      "/nvme1/scratch/walml/repos/shared-astro-utilities/shared_astro_utils/matching_utils.py:47: SettingWithCopyWarning: \n",
      "A value is trying to be set on a copy of a slice from a DataFrame.\n",
      "Try using .loc[row_indexer,col_indexer] = value instead\n",
      "\n",
      "See the caveats in the documentation: https://pandas.pydata.org/pandas-docs/stable/user_guide/indexing.html#returning-a-view-versus-a-copy\n",
      "  galaxies['sky_separation'] = sky_separation.to(units.arcsec).value\n"
     ]
    },
    {
     "data": {
      "text/plain": [
       "(218458, 20936)"
      ]
     },
     "execution_count": 104,
     "metadata": {},
     "output_type": "execute_result"
    }
   ],
   "source": [
    "\n",
    "\n",
    "matched, unmatched = match_galaxies_to_catalog_pandas(df, nsa)\n",
    "len(matched), len(unmatched)\n",
    "\n"
   ]
  },
  {
   "cell_type": "code",
   "execution_count": 105,
   "metadata": {},
   "outputs": [],
   "source": [
    "df = pd.merge(df, matched[['iauname', 'dr7objid']], on='dr7objid', how='left')  # some iaunames will be nan"
   ]
  },
  {
   "cell_type": "code",
   "execution_count": 106,
   "metadata": {},
   "outputs": [],
   "source": [
    "\n",
    "df.to_parquet(save_loc, index=False)"
   ]
  },
  {
   "cell_type": "code",
   "execution_count": null,
   "metadata": {},
   "outputs": [],
   "source": []
  }
 ],
 "metadata": {
  "kernelspec": {
   "display_name": "zoobot",
   "language": "python",
   "name": "python3"
  },
  "language_info": {
   "codemirror_mode": {
    "name": "ipython",
    "version": 3
   },
   "file_extension": ".py",
   "mimetype": "text/x-python",
   "name": "python",
   "nbconvert_exporter": "python",
   "pygments_lexer": "ipython3",
   "version": "3.7.11"
  },
  "orig_nbformat": 4,
  "vscode": {
   "interpreter": {
    "hash": "bd3647569e49d48fa5822e6521f6e70d75d673e092d7157d5bb23a9c666da2e5"
   }
  }
 },
 "nbformat": 4,
 "nbformat_minor": 2
}
