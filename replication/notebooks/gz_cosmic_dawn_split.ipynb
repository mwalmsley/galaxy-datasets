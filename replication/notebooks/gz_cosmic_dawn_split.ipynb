{
 "cells": [
  {
   "cell_type": "code",
   "execution_count": 1,
   "metadata": {},
   "outputs": [
    {
     "data": {
      "text/plain": [
       "\"\\nWARNING\\n\\nThis is done without consideration for where galaxies are on the sky (because James and Kameswara have these master catalogs and I'm in a hurry right now)\\n\\nSplit will be redone in Sept/Oct to divide sky regions and avoid minor train/test contamination from crowded skies\\n\\n\""
      ]
     },
     "execution_count": 1,
     "metadata": {},
     "output_type": "execute_result"
    }
   ],
   "source": [
    "\"\"\"\n",
    "WARNING\n",
    "\n",
    "This is done without consideration for where galaxies are on the sky (because James and Kameswara have these master catalogs and I'm in a hurry right now)\n",
    "\n",
    "Split will be redone in Sept/Oct to divide sky regions and avoid minor train/test contamination from crowded skies\n",
    "\n",
    "\"\"\""
   ]
  },
  {
   "cell_type": "code",
   "execution_count": 2,
   "metadata": {},
   "outputs": [],
   "source": [
    "import os\n",
    "\n",
    "import pandas as pd\n",
    "import numpy as np\n",
    "\n",
    "from sklearn.model_selection import train_test_split\n"
   ]
  },
  {
   "cell_type": "code",
   "execution_count": 3,
   "metadata": {},
   "outputs": [],
   "source": [
    "df = pd.read_parquet('/nvme1/scratch/walml/repos/galaxy-zoo-cosmic-dawn/data/master_catalog_zooniverse_only.parquet')"
   ]
  },
  {
   "cell_type": "code",
   "execution_count": 4,
   "metadata": {},
   "outputs": [],
   "source": [
    "train_catalog, test_catalog = train_test_split(df, test_size=0.2, random_state=42)"
   ]
  },
  {
   "cell_type": "code",
   "execution_count": 5,
   "metadata": {},
   "outputs": [],
   "source": [
    "\n",
    "train_catalog.to_parquet('/home/walml/repos/galaxy-datasets/roots/gz_cosmic_dawn/cosmic_dawn_train_catalog.parquet', index=False)\n",
    "test_catalog.to_parquet('/home/walml/repos/galaxy-datasets/roots/gz_cosmic_dawn/cosmic_dawn_test_catalog.parquet', index=False)"
   ]
  },
  {
   "cell_type": "code",
   "execution_count": 7,
   "metadata": {},
   "outputs": [
    {
     "name": "stdout",
     "output_type": "stream",
     "text": [
      "ed412bc070166858a5cc965b98204268\n",
      "0c17fc4c7f2257c90c71edee6d95129a\n",
      "e95655312b48c23d1273369fbeb15884\n"
     ]
    }
   ],
   "source": [
    "import hashlib\n",
    "\n",
    "for loc in [\n",
    "    '/home/walml/repos/galaxy-datasets/roots/gz_cosmic_dawn/cosmic_dawn_train_catalog.parquet',\n",
    "    '/home/walml/repos/galaxy-datasets/roots/gz_cosmic_dawn/cosmic_dawn_test_catalog.parquet',\n",
    "    '/home/walml/repos/galaxy-datasets/roots/gz_cosmic_dawn/images.tar.gz'  # compressed from images above, takes 5 secs\n",
    "]:\n",
    "    # print hash\n",
    "    with open(loc, 'rb') as f:\n",
    "        md5_checksum = hashlib.md5(f.read()).hexdigest()\n",
    "\n",
    "    print(md5_checksum)"
   ]
  },
  {
   "cell_type": "code",
   "execution_count": null,
   "metadata": {},
   "outputs": [],
   "source": []
  },
  {
   "cell_type": "code",
   "execution_count": null,
   "metadata": {},
   "outputs": [],
   "source": []
  },
  {
   "cell_type": "code",
   "execution_count": null,
   "metadata": {},
   "outputs": [],
   "source": []
  }
 ],
 "metadata": {
  "interpreter": {
   "hash": "c34d4c8a1b8b21e79f906c1bbb825a89ebe0437a3392b75e6e546cb098b02862"
  },
  "kernelspec": {
   "display_name": "Python 3.8.15 ('zoobot38_dev')",
   "language": "python",
   "name": "python3"
  },
  "language_info": {
   "codemirror_mode": {
    "name": "ipython",
    "version": 3
   },
   "file_extension": ".py",
   "mimetype": "text/x-python",
   "name": "python",
   "nbconvert_exporter": "python",
   "pygments_lexer": "ipython3",
   "version": "3.8.15"
  },
  "orig_nbformat": 4
 },
 "nbformat": 4,
 "nbformat_minor": 2
}
