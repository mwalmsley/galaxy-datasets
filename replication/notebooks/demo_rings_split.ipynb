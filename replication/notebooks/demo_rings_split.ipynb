{
 "cells": [
  {
   "cell_type": "markdown",
   "metadata": {},
   "source": [
    "\n",
    "\n",
    "This is a bit trivial as I already made this demo example a long time ago. I just need to tweak it to match the format of the other datasets."
   ]
  },
  {
   "cell_type": "code",
   "execution_count": 25,
   "metadata": {},
   "outputs": [],
   "source": [
    "import pandas as pd\n",
    "import os\n",
    "from sklearn.model_selection import train_test_split"
   ]
  },
  {
   "cell_type": "code",
   "execution_count": 26,
   "metadata": {},
   "outputs": [],
   "source": [
    "from galaxy_datasets import gz_rings\n",
    "\n",
    "ring_df, _ = gz_rings(root='/Users/user/repos/galaxy-datasets/roots/gz_rings', train=True, download=False)"
   ]
  },
  {
   "cell_type": "code",
   "execution_count": 27,
   "metadata": {},
   "outputs": [
    {
     "data": {
      "text/html": [
       "<div>\n",
       "<style scoped>\n",
       "    .dataframe tbody tr th:only-of-type {\n",
       "        vertical-align: middle;\n",
       "    }\n",
       "\n",
       "    .dataframe tbody tr th {\n",
       "        vertical-align: top;\n",
       "    }\n",
       "\n",
       "    .dataframe thead th {\n",
       "        text-align: right;\n",
       "    }\n",
       "</style>\n",
       "<table border=\"1\" class=\"dataframe\">\n",
       "  <thead>\n",
       "    <tr style=\"text-align: right;\">\n",
       "      <th></th>\n",
       "      <th>id_str</th>\n",
       "      <th>brickid</th>\n",
       "      <th>objid</th>\n",
       "      <th>ring_fraction</th>\n",
       "      <th>ring_yes</th>\n",
       "      <th>ring_no</th>\n",
       "      <th>total_votes</th>\n",
       "      <th>subfolder</th>\n",
       "      <th>filename</th>\n",
       "      <th>file_loc</th>\n",
       "    </tr>\n",
       "  </thead>\n",
       "  <tbody>\n",
       "    <tr>\n",
       "      <th>0</th>\n",
       "      <td>400463_1575</td>\n",
       "      <td>400463</td>\n",
       "      <td>1575</td>\n",
       "      <td>0.600000</td>\n",
       "      <td>6.0</td>\n",
       "      <td>4.0</td>\n",
       "      <td>10</td>\n",
       "      <td>400463</td>\n",
       "      <td>400463_1575.jpg</td>\n",
       "      <td>/Users/user/repos/galaxy-datasets/roots/gz_rin...</td>\n",
       "    </tr>\n",
       "    <tr>\n",
       "      <th>1</th>\n",
       "      <td>323205_542</td>\n",
       "      <td>323205</td>\n",
       "      <td>542</td>\n",
       "      <td>0.727273</td>\n",
       "      <td>8.0</td>\n",
       "      <td>3.0</td>\n",
       "      <td>11</td>\n",
       "      <td>323205</td>\n",
       "      <td>323205_542.jpg</td>\n",
       "      <td>/Users/user/repos/galaxy-datasets/roots/gz_rin...</td>\n",
       "    </tr>\n",
       "    <tr>\n",
       "      <th>2</th>\n",
       "      <td>385403_198</td>\n",
       "      <td>385403</td>\n",
       "      <td>198</td>\n",
       "      <td>0.800000</td>\n",
       "      <td>8.0</td>\n",
       "      <td>2.0</td>\n",
       "      <td>10</td>\n",
       "      <td>385403</td>\n",
       "      <td>385403_198.jpg</td>\n",
       "      <td>/Users/user/repos/galaxy-datasets/roots/gz_rin...</td>\n",
       "    </tr>\n",
       "    <tr>\n",
       "      <th>3</th>\n",
       "      <td>274710_2050</td>\n",
       "      <td>274710</td>\n",
       "      <td>2050</td>\n",
       "      <td>0.600000</td>\n",
       "      <td>6.0</td>\n",
       "      <td>4.0</td>\n",
       "      <td>10</td>\n",
       "      <td>274710</td>\n",
       "      <td>274710_2050.jpg</td>\n",
       "      <td>/Users/user/repos/galaxy-datasets/roots/gz_rin...</td>\n",
       "    </tr>\n",
       "    <tr>\n",
       "      <th>4</th>\n",
       "      <td>72670_3924</td>\n",
       "      <td>72670</td>\n",
       "      <td>3924</td>\n",
       "      <td>0.500000</td>\n",
       "      <td>5.0</td>\n",
       "      <td>5.0</td>\n",
       "      <td>10</td>\n",
       "      <td>72670</td>\n",
       "      <td>72670_3924.jpg</td>\n",
       "      <td>/Users/user/repos/galaxy-datasets/roots/gz_rin...</td>\n",
       "    </tr>\n",
       "    <tr>\n",
       "      <th>...</th>\n",
       "      <td>...</td>\n",
       "      <td>...</td>\n",
       "      <td>...</td>\n",
       "      <td>...</td>\n",
       "      <td>...</td>\n",
       "      <td>...</td>\n",
       "      <td>...</td>\n",
       "      <td>...</td>\n",
       "      <td>...</td>\n",
       "      <td>...</td>\n",
       "    </tr>\n",
       "    <tr>\n",
       "      <th>73351</th>\n",
       "      <td>236659_6421</td>\n",
       "      <td>236659</td>\n",
       "      <td>6421</td>\n",
       "      <td>0.600000</td>\n",
       "      <td>6.0</td>\n",
       "      <td>4.0</td>\n",
       "      <td>10</td>\n",
       "      <td>236659</td>\n",
       "      <td>236659_6421.jpg</td>\n",
       "      <td>/Users/user/repos/galaxy-datasets/roots/gz_rin...</td>\n",
       "    </tr>\n",
       "    <tr>\n",
       "      <th>73352</th>\n",
       "      <td>402717_3186</td>\n",
       "      <td>402717</td>\n",
       "      <td>3186</td>\n",
       "      <td>0.200000</td>\n",
       "      <td>2.0</td>\n",
       "      <td>8.0</td>\n",
       "      <td>10</td>\n",
       "      <td>402717</td>\n",
       "      <td>402717_3186.jpg</td>\n",
       "      <td>/Users/user/repos/galaxy-datasets/roots/gz_rin...</td>\n",
       "    </tr>\n",
       "    <tr>\n",
       "      <th>73353</th>\n",
       "      <td>468260_3334</td>\n",
       "      <td>468260</td>\n",
       "      <td>3334</td>\n",
       "      <td>0.695652</td>\n",
       "      <td>16.0</td>\n",
       "      <td>7.0</td>\n",
       "      <td>23</td>\n",
       "      <td>468260</td>\n",
       "      <td>468260_3334.jpg</td>\n",
       "      <td>/Users/user/repos/galaxy-datasets/roots/gz_rin...</td>\n",
       "    </tr>\n",
       "    <tr>\n",
       "      <th>73354</th>\n",
       "      <td>112757_2516</td>\n",
       "      <td>112757</td>\n",
       "      <td>2516</td>\n",
       "      <td>0.750000</td>\n",
       "      <td>9.0</td>\n",
       "      <td>3.0</td>\n",
       "      <td>12</td>\n",
       "      <td>112757</td>\n",
       "      <td>112757_2516.jpg</td>\n",
       "      <td>/Users/user/repos/galaxy-datasets/roots/gz_rin...</td>\n",
       "    </tr>\n",
       "    <tr>\n",
       "      <th>73355</th>\n",
       "      <td>316104_3962</td>\n",
       "      <td>316104</td>\n",
       "      <td>3962</td>\n",
       "      <td>0.900000</td>\n",
       "      <td>9.0</td>\n",
       "      <td>1.0</td>\n",
       "      <td>10</td>\n",
       "      <td>316104</td>\n",
       "      <td>316104_3962.jpg</td>\n",
       "      <td>/Users/user/repos/galaxy-datasets/roots/gz_rin...</td>\n",
       "    </tr>\n",
       "  </tbody>\n",
       "</table>\n",
       "<p>73356 rows × 10 columns</p>\n",
       "</div>"
      ],
      "text/plain": [
       "            id_str brickid objid  ring_fraction  ring_yes  ring_no  \\\n",
       "0      400463_1575  400463  1575       0.600000       6.0      4.0   \n",
       "1       323205_542  323205   542       0.727273       8.0      3.0   \n",
       "2       385403_198  385403   198       0.800000       8.0      2.0   \n",
       "3      274710_2050  274710  2050       0.600000       6.0      4.0   \n",
       "4       72670_3924   72670  3924       0.500000       5.0      5.0   \n",
       "...            ...     ...   ...            ...       ...      ...   \n",
       "73351  236659_6421  236659  6421       0.600000       6.0      4.0   \n",
       "73352  402717_3186  402717  3186       0.200000       2.0      8.0   \n",
       "73353  468260_3334  468260  3334       0.695652      16.0      7.0   \n",
       "73354  112757_2516  112757  2516       0.750000       9.0      3.0   \n",
       "73355  316104_3962  316104  3962       0.900000       9.0      1.0   \n",
       "\n",
       "       total_votes subfolder         filename  \\\n",
       "0               10    400463  400463_1575.jpg   \n",
       "1               11    323205   323205_542.jpg   \n",
       "2               10    385403   385403_198.jpg   \n",
       "3               10    274710  274710_2050.jpg   \n",
       "4               10     72670   72670_3924.jpg   \n",
       "...            ...       ...              ...   \n",
       "73351           10    236659  236659_6421.jpg   \n",
       "73352           10    402717  402717_3186.jpg   \n",
       "73353           23    468260  468260_3334.jpg   \n",
       "73354           12    112757  112757_2516.jpg   \n",
       "73355           10    316104  316104_3962.jpg   \n",
       "\n",
       "                                                file_loc  \n",
       "0      /Users/user/repos/galaxy-datasets/roots/gz_rin...  \n",
       "1      /Users/user/repos/galaxy-datasets/roots/gz_rin...  \n",
       "2      /Users/user/repos/galaxy-datasets/roots/gz_rin...  \n",
       "3      /Users/user/repos/galaxy-datasets/roots/gz_rin...  \n",
       "4      /Users/user/repos/galaxy-datasets/roots/gz_rin...  \n",
       "...                                                  ...  \n",
       "73351  /Users/user/repos/galaxy-datasets/roots/gz_rin...  \n",
       "73352  /Users/user/repos/galaxy-datasets/roots/gz_rin...  \n",
       "73353  /Users/user/repos/galaxy-datasets/roots/gz_rin...  \n",
       "73354  /Users/user/repos/galaxy-datasets/roots/gz_rin...  \n",
       "73355  /Users/user/repos/galaxy-datasets/roots/gz_rin...  \n",
       "\n",
       "[73356 rows x 10 columns]"
      ]
     },
     "execution_count": 27,
     "metadata": {},
     "output_type": "execute_result"
    }
   ],
   "source": [
    "ring_df"
   ]
  },
  {
   "cell_type": "code",
   "execution_count": 28,
   "metadata": {},
   "outputs": [],
   "source": [
    "df = ring_df.query('total_votes >= 10').sample(1000, random_state=42)\n",
    "df['ring'] = df['ring_fraction'] > 0.5"
   ]
  },
  {
   "cell_type": "code",
   "execution_count": 29,
   "metadata": {},
   "outputs": [],
   "source": [
    "del df['brickid']\n",
    "del df['objid']\n",
    "del df['ring_yes']\n",
    "del df['ring_no']\n",
    "del df['total_votes']\n",
    "del df['file_loc']\n",
    "# delete to simplify"
   ]
  },
  {
   "cell_type": "code",
   "execution_count": 30,
   "metadata": {},
   "outputs": [],
   "source": [
    "train_catalog, test_catalog = train_test_split(df, test_size=0.2, random_state=42)"
   ]
  },
  {
   "cell_type": "code",
   "execution_count": 31,
   "metadata": {},
   "outputs": [],
   "source": [
    "train_catalog_loc = '/Users/user/repos/galaxy-datasets/roots/demo_rings/demo_rings_train_catalog.parquet'\n",
    "test_catalog_loc = '/Users/user/repos/galaxy-datasets/roots/demo_rings/demo_rings_test_catalog.parquet'\n",
    "\n",
    "train_catalog.to_parquet(train_catalog_loc, index=False)\n",
    "test_catalog.to_parquet(test_catalog_loc, index=False)"
   ]
  },
  {
   "cell_type": "code",
   "execution_count": 32,
   "metadata": {},
   "outputs": [],
   "source": [
    "# also copy the images\n",
    "# will be relative to the source dir /share/nas2/walml/galaxy_zoo/decals/dr8/jpg\n",
    "df['file_loc'] = df['subfolder'] + '/' + df['filename']\n",
    "df[['file_loc']].to_csv('/Users/user/repos/galaxy-datasets/data/derived_data/demo_rings_file_list.csv', index=False, header=False)\n",
    "\n",
    "# rsync -azv -"
   ]
  },
  {
   "cell_type": "code",
   "execution_count": 33,
   "metadata": {},
   "outputs": [],
   "source": [
    "# e 'ssh -A -J walml@external.jb.man.ac.uk' --files-from /Users/user/repos/galaxy-datasets/data/derived_data/demo_rings_file_list.csv walml@galahad.ast.man.ac.uk:/share/nas2/walml/galaxy_zoo/decals/dr8/jpg /Users/user/repos/galaxy-datasets/data/derived_data/demo_rings"
   ]
  },
  {
   "cell_type": "code",
   "execution_count": 34,
   "metadata": {},
   "outputs": [],
   "source": [
    "# rename as \"images\""
   ]
  },
  {
   "cell_type": "code",
   "execution_count": 35,
   "metadata": {},
   "outputs": [],
   "source": [
    "# tar czvf demo_rings_images.tar.gz images"
   ]
  },
  {
   "cell_type": "code",
   "execution_count": 37,
   "metadata": {},
   "outputs": [
    {
     "name": "stdout",
     "output_type": "stream",
     "text": [
      "4cf7e3eaab46032c374d89c349295aa2\n",
      "7b28fc521836e76f794db50c3df4a2e1\n",
      "5b3c6c62618bbd3165988c60e36b8365\n"
     ]
    }
   ],
   "source": [
    "import hashlib\n",
    "\n",
    "for loc in [\n",
    "    train_catalog_loc,\n",
    "    test_catalog_loc,\n",
    "    '/Users/user/repos/galaxy-datasets/data/derived_data/demo_rings_images.tar.gz'\n",
    "]:\n",
    "    # print hash\n",
    "    with open(loc, 'rb') as f:\n",
    "        md5_checksum = hashlib.md5(f.read()).hexdigest()\n",
    "\n",
    "    print(md5_checksum)"
   ]
  },
  {
   "cell_type": "code",
   "execution_count": null,
   "metadata": {},
   "outputs": [],
   "source": []
  }
 ],
 "metadata": {
  "kernelspec": {
   "display_name": "zoobot38_torch",
   "language": "python",
   "name": "python3"
  },
  "language_info": {
   "codemirror_mode": {
    "name": "ipython",
    "version": 3
   },
   "file_extension": ".py",
   "mimetype": "text/x-python",
   "name": "python",
   "nbconvert_exporter": "python",
   "pygments_lexer": "ipython3",
   "version": "3.8.15"
  },
  "orig_nbformat": 4,
  "vscode": {
   "interpreter": {
    "hash": "a118facf4245f424f4200b4b5687feb23c0aebd3618ec41c8dfa35ce3adb4b42"
   }
  }
 },
 "nbformat": 4,
 "nbformat_minor": 2
}
