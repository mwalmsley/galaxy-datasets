{
 "cells": [
  {
   "cell_type": "code",
   "execution_count": 1,
   "metadata": {},
   "outputs": [],
   "source": [
    "import pandas as pd\n",
    "import os"
   ]
  },
  {
   "cell_type": "code",
   "execution_count": 2,
   "metadata": {},
   "outputs": [],
   "source": [
    "\n",
    "train_df = pd.read_csv('/home/walml/repos/euclid-morphology/data/latest_euclid_train_catalog.csv')\n",
    "test_df = pd.read_csv('/home/walml/repos/euclid-morphology/data/latest_euclid_test_catalog.csv')\n",
    "\n",
    "\n",
    "# for convenience\n",
    "train_df['in_gz_euclid'] = True\n",
    "test_df['in_gz_euclid'] = True\n",
    "\n",
    "assert 'id_str' in train_df.columns, 'id_str not in train_df columns'\n",
    "assert 'id_str' in test_df.columns, 'id_str not in test_df columns'\n",
    "assert 'file_loc' in train_df.columns, 'file_loc not in train_df columns'\n",
    "assert 'file_loc' in test_df.columns, 'file_loc not in test_df columns'"
   ]
  },
  {
   "cell_type": "code",
   "execution_count": 3,
   "metadata": {},
   "outputs": [
    {
     "data": {
      "text/plain": [
       "(1.0, 1.0)"
      ]
     },
     "execution_count": 3,
     "metadata": {},
     "output_type": "execute_result"
    }
   ],
   "source": [
    "train_df['file_exists'] = train_df['file_loc'].apply(lambda x: os.path.isfile(x))\n",
    "test_df['file_exists'] = test_df['file_loc'].apply(lambda x: os.path.isfile(x))\n",
    "train_df['file_exists'].mean(), test_df['file_exists'].mean()"
   ]
  },
  {
   "cell_type": "code",
   "execution_count": 4,
   "metadata": {},
   "outputs": [],
   "source": [
    "train_df['original_file_loc'] = train_df['file_loc']\n",
    "test_df['original_file_loc'] = test_df['file_loc']\n",
    "\n",
    "train_df['filename'] = train_df['id_str'] + '.jpg'\n",
    "test_df['filename'] = test_df['id_str'] + '.jpg'\n",
    "\n",
    "train_df['file_loc'] = '/home/walml/repos/galaxy-datasets/data/derived_data/gz_euclid/images/' + train_df['filename'] \n",
    "test_df['file_loc'] = '/home/walml/repos/galaxy-datasets/data/derived_data/gz_euclid/images/' + test_df['filename'] "
   ]
  },
  {
   "cell_type": "code",
   "execution_count": 5,
   "metadata": {},
   "outputs": [
    {
     "data": {
      "text/plain": [
       "'/home/walml/repos/galaxy-datasets/data/derived_data/gz_euclid/images/F-006_102028749_NEG729652964412208830.jpg'"
      ]
     },
     "execution_count": 5,
     "metadata": {},
     "output_type": "execute_result"
    }
   ],
   "source": [
    "train_df['file_loc'].iloc[0]"
   ]
  },
  {
   "cell_type": "code",
   "execution_count": 6,
   "metadata": {},
   "outputs": [],
   "source": [
    "# import shutil\n",
    "# from tqdm.notebook import tqdm\n",
    "\n",
    "# for i, row in tqdm(train_df.iterrows(), total=len(train_df)):\n",
    "#     shutil.copy(row['original_file_loc'], row['file_loc'])\n",
    "\n",
    "# for i, row in tqdm(test_df.iterrows(), total=len(test_df)):\n",
    "#     shutil.copy(row['original_file_loc'], row['file_loc'])"
   ]
  },
  {
   "cell_type": "code",
   "execution_count": 7,
   "metadata": {},
   "outputs": [],
   "source": [
    "train_df.to_parquet('/home/walml/Dropbox (The University of Manchester)/pytorch-galaxy-datasets/gz_euclid/gz_euclid_train_catalog.parquet', index=False)\n",
    "test_df.to_parquet('/home/walml/Dropbox (The University of Manchester)/pytorch-galaxy-datasets/gz_euclid/gz_euclid_test_catalog.parquet', index=False)"
   ]
  },
  {
   "cell_type": "code",
   "execution_count": 8,
   "metadata": {},
   "outputs": [
    {
     "name": "stdout",
     "output_type": "stream",
     "text": [
      "e65040c6dcc3e490634120e8fa249c74\n",
      "1986f944ddbe47d2ae94beeca99ae414\n",
      "84d7db3cf607e2c36fd35890f693b8bd\n"
     ]
    }
   ],
   "source": [
    "import hashlib\n",
    "\n",
    "for loc in [\n",
    "    '/home/walml/Dropbox (The University of Manchester)/pytorch-galaxy-datasets/gz_euclid/gz_euclid_train_catalog.parquet',\n",
    "    '/home/walml/Dropbox (The University of Manchester)/pytorch-galaxy-datasets/gz_euclid/gz_euclid_test_catalog.parquet',\n",
    "    '/home/walml/Dropbox (The University of Manchester)/pytorch-galaxy-datasets/gz_euclid/images.tar.xz'  # compressed from images above\n",
    "]:\n",
    "    with open(loc, 'rb') as f:\n",
    "        md5_checksum = hashlib.md5(f.read()).hexdigest()\n",
    "\n",
    "    print(md5_checksum)"
   ]
  },
  {
   "cell_type": "code",
   "execution_count": null,
   "metadata": {},
   "outputs": [],
   "source": []
  }
 ],
 "metadata": {
  "kernelspec": {
   "display_name": "zoobot39_dev",
   "language": "python",
   "name": "python3"
  },
  "language_info": {
   "codemirror_mode": {
    "name": "ipython",
    "version": 3
   },
   "file_extension": ".py",
   "mimetype": "text/x-python",
   "name": "python",
   "nbconvert_exporter": "python",
   "pygments_lexer": "ipython3",
   "version": "3.9.0"
  }
 },
 "nbformat": 4,
 "nbformat_minor": 2
}
