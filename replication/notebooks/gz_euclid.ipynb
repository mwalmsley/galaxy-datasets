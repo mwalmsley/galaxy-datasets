{
 "cells": [
  {
   "cell_type": "code",
   "execution_count": 17,
   "metadata": {},
   "outputs": [],
   "source": [
    "import pandas as pd\n",
    "import os"
   ]
  },
  {
   "cell_type": "code",
   "execution_count": 18,
   "metadata": {},
   "outputs": [],
   "source": [
    "\n",
    "train_df = pd.read_csv('/home/walml/repos/euclid-morphology/data/latest_euclid_train_catalog.csv')\n",
    "test_df = pd.read_csv('/home/walml/repos/euclid-morphology/data/latest_euclid_test_catalog.csv')\n",
    "\n",
    "\n",
    "# for convenience\n",
    "train_df['in_gz_euclid'] = True\n",
    "test_df['in_gz_euclid'] = True\n",
    "\n",
    "assert 'id_str' in train_df.columns, 'id_str not in train_df columns'\n",
    "assert 'id_str' in test_df.columns, 'id_str not in test_df columns'\n",
    "assert 'file_loc' in train_df.columns, 'file_loc not in train_df columns'\n",
    "assert 'file_loc' in test_df.columns, 'file_loc not in test_df columns'"
   ]
  },
  {
   "cell_type": "code",
   "execution_count": 19,
   "metadata": {},
   "outputs": [
    {
     "data": {
      "text/plain": [
       "(1.0, 1.0)"
      ]
     },
     "execution_count": 19,
     "metadata": {},
     "output_type": "execute_result"
    }
   ],
   "source": [
    "train_df['file_exists'] = train_df['file_loc'].apply(lambda x: os.path.isfile(x))\n",
    "test_df['file_exists'] = test_df['file_loc'].apply(lambda x: os.path.isfile(x))\n",
    "train_df['file_exists'].mean(), test_df['file_exists'].mean()"
   ]
  },
  {
   "cell_type": "code",
   "execution_count": 20,
   "metadata": {},
   "outputs": [],
   "source": [
    "train_df['original_file_loc'] = train_df['file_loc']\n",
    "test_df['original_file_loc'] = test_df['file_loc']\n",
    "\n",
    "train_df['filename'] = train_df['id_str'] + '.jpg'\n",
    "test_df['filename'] = test_df['id_str'] + '.jpg'\n",
    "\n",
    "train_df['file_loc'] = '/home/walml/repos/galaxy-datasets/data/derived_data/gz_euclid/images/' + train_df['filename'] \n",
    "test_df['file_loc'] = '/home/walml/repos/galaxy-datasets/data/derived_data/gz_euclid/images/' + test_df['filename'] "
   ]
  },
  {
   "cell_type": "code",
   "execution_count": 21,
   "metadata": {},
   "outputs": [
    {
     "data": {
      "text/plain": [
       "'/home/walml/repos/galaxy-datasets/data/derived_data/gz_euclid/images/F-006_102028749_NEG729652964412208830.jpg'"
      ]
     },
     "execution_count": 21,
     "metadata": {},
     "output_type": "execute_result"
    }
   ],
   "source": [
    "train_df['file_loc'].iloc[0]"
   ]
  },
  {
   "cell_type": "code",
   "execution_count": 22,
   "metadata": {},
   "outputs": [
    {
     "data": {
      "application/vnd.jupyter.widget-view+json": {
       "model_id": "5a0f1a26890f4a5fba91dfe5eca32bb7",
       "version_major": 2,
       "version_minor": 0
      },
      "text/plain": [
       "  0%|          | 0/95538 [00:00<?, ?it/s]"
      ]
     },
     "metadata": {},
     "output_type": "display_data"
    },
    {
     "data": {
      "application/vnd.jupyter.widget-view+json": {
       "model_id": "620f9f42d6554cca9312a2346f3568ee",
       "version_major": 2,
       "version_minor": 0
      },
      "text/plain": [
       "  0%|          | 0/3646 [00:00<?, ?it/s]"
      ]
     },
     "metadata": {},
     "output_type": "display_data"
    }
   ],
   "source": [
    "# import shutil\n",
    "# from tqdm.notebook import tqdm\n",
    "\n",
    "# for i, row in tqdm(train_df.iterrows(), total=len(train_df)):\n",
    "#     shutil.copy(row['original_file_loc'], row['file_loc'])\n",
    "\n",
    "# for i, row in tqdm(test_df.iterrows(), total=len(test_df)):\n",
    "#     shutil.copy(row['original_file_loc'], row['file_loc'])"
   ]
  },
  {
   "cell_type": "code",
   "execution_count": 23,
   "metadata": {},
   "outputs": [],
   "source": [
    "train_df.to_parquet('/home/walml/Dropbox (The University of Manchester)/pytorch-galaxy-datasets/gz_euclid/gz_euclid_train_catalog.parquet', index=False)\n",
    "test_df.to_parquet('/home/walml/Dropbox (The University of Manchester)/pytorch-galaxy-datasets/gz_euclid/gz_euclid_test_catalog.parquet', index=False)"
   ]
  },
  {
   "cell_type": "code",
   "execution_count": 24,
   "metadata": {},
   "outputs": [
    {
     "name": "stdout",
     "output_type": "stream",
     "text": [
      "350a71f59504b0a1b1400a6396d24531\n",
      "d43c2b0ee74dd9a31a738f0929927078\n",
      "84d7db3cf607e2c36fd35890f693b8bd\n"
     ]
    }
   ],
   "source": [
    "import hashlib\n",
    "\n",
    "for loc in [\n",
    "    '/home/walml/Dropbox (The University of Manchester)/pytorch-galaxy-datasets/gz_euclid/gz_euclid_train_catalog.parquet',\n",
    "    '/home/walml/Dropbox (The University of Manchester)/pytorch-galaxy-datasets/gz_euclid/gz_euclid_test_catalog.parquet',\n",
    "    '/home/walml/Dropbox (The University of Manchester)/pytorch-galaxy-datasets/gz_euclid/images.tar.xz'  # compressed from images above\n",
    "]:\n",
    "    with open(loc, 'rb') as f:\n",
    "        md5_checksum = hashlib.md5(f.read()).hexdigest()\n",
    "\n",
    "    print(md5_checksum)"
   ]
  },
  {
   "cell_type": "code",
   "execution_count": null,
   "metadata": {},
   "outputs": [],
   "source": []
  }
 ],
 "metadata": {
  "kernelspec": {
   "display_name": "zoobot39_dev",
   "language": "python",
   "name": "python3"
  },
  "language_info": {
   "codemirror_mode": {
    "name": "ipython",
    "version": 3
   },
   "file_extension": ".py",
   "mimetype": "text/x-python",
   "name": "python",
   "nbconvert_exporter": "python",
   "pygments_lexer": "ipython3",
   "version": "3.9.0"
  }
 },
 "nbformat": 4,
 "nbformat_minor": 2
}
