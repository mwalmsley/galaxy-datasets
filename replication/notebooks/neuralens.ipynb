{
 "cells": [
  {
   "cell_type": "code",
   "execution_count": null,
   "metadata": {},
   "outputs": [],
   "source": [
    "import pandas as pd\n",
    "import matplotlib.pyplot as plt\n",
    "import numpy as np\n",
    "\n",
    "from astropy.coordinates import SkyCoord"
   ]
  },
  {
   "cell_type": "code",
   "execution_count": null,
   "metadata": {},
   "outputs": [],
   "source": [
    "# https://sites.google.com/usfca.edu/neuralens/publications/lens-candidates-storfer-et-al-2022\n",
    "huang20 = pd.read_csv('/home/walml/repos/galaxy-datasets/data/external_data/neuralens/candidates_H20.csv')\n",
    "huang21 = pd.read_csv('/home/walml/repos/galaxy-datasets/data/external_data/neuralens/candidates_H21.csv')\n",
    "storfer22 = pd.read_csv('/home/walml/repos/galaxy-datasets/data/external_data/neuralens/storfer22_full.csv')"
   ]
  },
  {
   "cell_type": "code",
   "execution_count": null,
   "metadata": {},
   "outputs": [],
   "source": [
    "huang20.columns.values"
   ]
  },
  {
   "cell_type": "markdown",
   "metadata": {},
   "source": [
    "Tidy up the columns"
   ]
  },
  {
   "cell_type": "code",
   "execution_count": null,
   "metadata": {},
   "outputs": [],
   "source": [
    "huang20_renamer = {\n",
    "    'Name': 'name', 'Probability': 'probability', 'Spec': 'spec_z', 'Photo-z': 'phot_z', 'g mag': 'mag_g', 'r mag': 'mag_r', 'z mag': 'mag_z',\n",
    "}\n",
    "\n",
    "huang20 = huang20.rename(columns=huang20_renamer)\n",
    "huang20 = huang20[huang20_renamer.values()]\n",
    "huang20"
   ]
  },
  {
   "cell_type": "code",
   "execution_count": null,
   "metadata": {},
   "outputs": [],
   "source": [
    "huang21_renamer = huang20_renamer.copy()\n",
    "huang21_renamer.update({'Score': 'score', 'Score Diff': 'score_diff'})\n",
    "huang21 = huang21.rename(columns=huang21_renamer)"
   ]
  },
  {
   "cell_type": "code",
   "execution_count": null,
   "metadata": {},
   "outputs": [],
   "source": [
    "huang21 = huang21[huang21_renamer.values()]"
   ]
  },
  {
   "cell_type": "code",
   "execution_count": null,
   "metadata": {},
   "outputs": [],
   "source": [
    "# storfer doesn't need renaming, only subset\n",
    "\n",
    "storfer22 = storfer22.rename(columns={'phot-z': 'phot_z', 'spec-z': 'spec_z'})\n",
    "\n",
    "storfer22 = storfer22[['name', 'ra', 'dec', 'grade', 'probability', 'spec_z', 'phot_z', 'mag_g', 'mag_r', 'mag_z']]\n",
    "storfer22"
   ]
  },
  {
   "cell_type": "markdown",
   "metadata": {},
   "source": [
    "Huang 20 and Huang 21 don't include RA/Dec cols, so parse these out from the DESI names"
   ]
  },
  {
   "cell_type": "code",
   "execution_count": null,
   "metadata": {},
   "outputs": [],
   "source": [
    "# def desi_name_to_coords(name):\n",
    "#     ra_str = name[5:13]  # DESI- prefix always, RA is 0 to 360\n",
    "#     dec_str = name[13:]  # sometimes -, sometimes+, Dec is -90 to +90\n",
    "#     # print(ra_str, dec_str)\n",
    "#     return SkyCoord(ra=ra_str, dec=dec_str, frame='icrs', unit='deg')\n",
    "\n",
    "# desi_name_to_coords('DESI-351.4891-00.8741')\n",
    "\n",
    "\n",
    "def desi_names_to_coords(names: pd.Series):\n",
    "    # parse RA/Dec from DESI name\n",
    "    ra_strs = names.apply(lambda x: x[5:13]).values  # DESI- prefix always, RA is 0 to 360\n",
    "    dec_strs = names.apply(lambda x: x[13:]).values # sometimes -, sometimes+, Dec is -90 to +90\n",
    "    skycoord = SkyCoord(ra=ra_strs, dec=dec_strs, frame='icrs', unit='deg')\n",
    "    return skycoord.ra.deg, skycoord.dec.deg\n",
    "\n",
    "huang20_ra, huang20_dec = desi_names_to_coords(huang20['name'])\n",
    "huang20['ra'] = huang20_ra\n",
    "huang20['dec'] = huang20_dec\n",
    "\n",
    "huang21_ra, huang21_dec = desi_names_to_coords(huang21['name'])\n",
    "huang21['ra'] = huang21_ra\n",
    "huang21['dec'] = huang21_dec"
   ]
  },
  {
   "cell_type": "markdown",
   "metadata": {},
   "source": [
    "### Labels: grades, scores, oh my"
   ]
  },
  {
   "cell_type": "markdown",
   "metadata": {},
   "source": [
    "Huang 20 doesn't have explicit grades listed on the sheet, but:\n",
    "\n",
    "\"[In the three tables below](https://sites.google.com/usfca.edu/neuralens/publications/lens-candidates-huang-et-al-2020), the 342 candidate systems from Huang et al. 2020 are grouped by Grade, each Grade is arranged in ascending RA.\"\n",
    "\n",
    "So let's encode that ourselves."
   ]
  },
  {
   "cell_type": "code",
   "execution_count": null,
   "metadata": {},
   "outputs": [],
   "source": [
    "huang20_grades = ['A'] * 60 + ['B'] * 106 + ['C'] * 176\n",
    "huang20['grade'] = huang20_grades"
   ]
  },
  {
   "cell_type": "markdown",
   "metadata": {},
   "source": [
    "Huang 21 uses scores, from 2 to 4 apparently.\n",
    "<!-- https://arxiv.org/pdf/2005.04730.pdf -->\n",
    "\n",
    "\"\n",
    "Co-authors S.B., A.G.,\n",
    "A.P., V.R., C.S., W.S., and R.V. make the “first pass” selections, according to these criteria, erring\n",
    "on the generous side\n",
    "\n",
    "For the “second\n",
    "pass”, co-authors X.H. and A.D. examine all “first pass” selections and assign an integer score\n",
    "between 1 and 4. These two scores are averaged. We assign a letter grade according to the average,\n",
    "using the following criteria.\n",
    "\n",
    "≥ 3.5: Grade A. We have a high level of confidence of these candidates...\n",
    "\n",
    "= 3.0: Grade B. They have similar characteristics as the Grade A’s. For the cutout images\n",
    "where there appear to be giant arcs they tend to be fainter than those for the Grade A’s.\n",
    "\n",
    "= 2.5 or 2.0: Grade C. They generally have features that are even fainter and/or smaller than\n",
    "what is typical for Grade B candidates, but that are nevertheless suggestive of lensed arclets.\n",
    "Counter images are often not present or indiscernible.\n",
    "\""
   ]
  },
  {
   "cell_type": "code",
   "execution_count": null,
   "metadata": {},
   "outputs": [],
   "source": [
    "huang21['score'].value_counts()"
   ]
  },
  {
   "cell_type": "markdown",
   "metadata": {},
   "source": [
    "Storfer returns to the same grade system as Huang20, but adds a D grade (not described in the paper, but presumably unlikely or rejected lenses)"
   ]
  },
  {
   "cell_type": "code",
   "execution_count": null,
   "metadata": {},
   "outputs": [],
   "source": [
    "storfer22['grade'].value_counts()"
   ]
  },
  {
   "cell_type": "markdown",
   "metadata": {},
   "source": [
    "Only H21 uses score/score delta, so let's simplify and stick with the grade system."
   ]
  },
  {
   "cell_type": "code",
   "execution_count": null,
   "metadata": {},
   "outputs": [],
   "source": [
    "def score_to_grade(score):\n",
    "    if score >= 3.5:\n",
    "        return 'A'\n",
    "    elif score >= 3.0:\n",
    "        return 'B'\n",
    "    else: \n",
    "        return 'C'\n",
    "\n",
    "huang21['grade'] = huang21['score'].apply(score_to_grade)"
   ]
  },
  {
   "cell_type": "code",
   "execution_count": null,
   "metadata": {},
   "outputs": [],
   "source": [
    "huang20['grade'].value_counts(normalize=True).sort_index()"
   ]
  },
  {
   "cell_type": "code",
   "execution_count": null,
   "metadata": {},
   "outputs": [],
   "source": [
    "huang21['grade'].value_counts(normalize=True).sort_index()"
   ]
  },
  {
   "cell_type": "code",
   "execution_count": null,
   "metadata": {},
   "outputs": [],
   "source": [
    "# storfer22['grade'].value_counts(normalize=True).sort_index()"
   ]
  },
  {
   "cell_type": "markdown",
   "metadata": {},
   "source": [
    "\"Grade D systems are not counted as candidates in this paper, but we have\n",
    "included them on our project website (URL provided in §4.2).\""
   ]
  },
  {
   "cell_type": "code",
   "execution_count": null,
   "metadata": {},
   "outputs": [],
   "source": [
    "storfer22 = storfer22[storfer22['grade'] != 'D']\n",
    "storfer22['grade'].value_counts(normalize=True).sort_index()\n",
    "# storfer has far fewer grade A's than H20 and H21, and H20 has more B vs C than H21 and storfer. Unclear if rating inconsistency or due to previous mining."
   ]
  },
  {
   "cell_type": "markdown",
   "metadata": {},
   "source": [
    "### Join the candidate lists"
   ]
  },
  {
   "cell_type": "code",
   "execution_count": null,
   "metadata": {},
   "outputs": [],
   "source": [
    "huang20.head()"
   ]
  },
  {
   "cell_type": "code",
   "execution_count": null,
   "metadata": {},
   "outputs": [],
   "source": [
    "huang21.head()"
   ]
  },
  {
   "cell_type": "code",
   "execution_count": null,
   "metadata": {},
   "outputs": [],
   "source": [
    "storfer22.head()"
   ]
  },
  {
   "cell_type": "code",
   "execution_count": null,
   "metadata": {},
   "outputs": [],
   "source": [
    "huang20['label_origin'] = 'huang20'\n",
    "huang21['label_origin'] = 'huang21'\n",
    "storfer22['label_origin'] = 'storfer22'\n",
    "\n",
    "df = pd.concat([huang20, huang21, storfer22], axis=0)\n",
    "del df['score']\n",
    "del df['score_diff']\n",
    "\n",
    "df['phot_z_mean'] = df['phot_z'].apply(lambda x: float(x.split('+')[0].split('±')[0]) if type(x) == str else np.nan)\n",
    "\n",
    "def get_best_z(galaxy):\n",
    "    if not pd.isna(galaxy['spec_z']):\n",
    "        return galaxy['spec_z']\n",
    "    return galaxy['phot_z_mean']\n",
    "\n",
    "df['best_z'] = df.apply(get_best_z, axis=1)\n",
    "\n",
    "df.sample(10)"
   ]
  },
  {
   "cell_type": "code",
   "execution_count": null,
   "metadata": {},
   "outputs": [],
   "source": [
    "df['phot_z']"
   ]
  },
  {
   "cell_type": "code",
   "execution_count": null,
   "metadata": {},
   "outputs": [],
   "source": [
    "fig, axes = plt.subplots(nrows=3)\n",
    "\n",
    "# df_to_show = df\n",
    "# bins = 30\n",
    "\n",
    "bins = 10\n",
    "df_to_show = df.query('grade == \"A\"')\n",
    "\n",
    "ax = axes[0]\n",
    "ax.hist(df_to_show['mag_r'], bins=bins)\n",
    "ax.set_xlabel('mag_r')\n",
    "\n",
    "\n",
    "ax = axes[1]\n",
    "ax.hist(df_to_show['best_z'], bins=bins)\n",
    "ax.set_xlabel('best_z')\n",
    "ax.set_xlim([0., 1.])\n",
    "\n",
    "ax = axes[2]\n",
    "ax.hist(df_to_show['spec_z'], bins=bins)\n",
    "ax.set_xlabel('spec_z')\n",
    "ax.set_xlim([0., 1.])\n",
    "\n",
    "fig.tight_layout()"
   ]
  },
  {
   "cell_type": "code",
   "execution_count": null,
   "metadata": {},
   "outputs": [],
   "source": [
    "# crossmatch to DESI LS DR8, to my images"
   ]
  },
  {
   "cell_type": "code",
   "execution_count": null,
   "metadata": {},
   "outputs": [],
   "source": [
    "# TODO crossmatch to DR9 for Stein's images?"
   ]
  },
  {
   "cell_type": "code",
   "execution_count": null,
   "metadata": {},
   "outputs": [],
   "source": [
    "df['grade'].value_counts()"
   ]
  },
  {
   "cell_type": "code",
   "execution_count": null,
   "metadata": {},
   "outputs": [],
   "source": [
    "df.to_csv('/home/walml/repos/galaxy-datasets/data/external_data/neuralens/neuralens_combined.csv', index=False)"
   ]
  },
  {
   "cell_type": "code",
   "execution_count": null,
   "metadata": {},
   "outputs": [],
   "source": []
  }
 ],
 "metadata": {
  "kernelspec": {
   "display_name": "zoobot39_dev",
   "language": "python",
   "name": "python3"
  },
  "language_info": {
   "codemirror_mode": {
    "name": "ipython",
    "version": 3
   },
   "file_extension": ".py",
   "mimetype": "text/x-python",
   "name": "python",
   "nbconvert_exporter": "python",
   "pygments_lexer": "ipython3",
   "version": "3.9.0"
  }
 },
 "nbformat": 4,
 "nbformat_minor": 2
}
