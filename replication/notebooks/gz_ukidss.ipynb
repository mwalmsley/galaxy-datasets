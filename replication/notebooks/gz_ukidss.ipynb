{
 "cells": [
  {
   "cell_type": "code",
   "execution_count": 44,
   "metadata": {},
   "outputs": [],
   "source": [
    "import pandas as pd"
   ]
  },
  {
   "cell_type": "code",
   "execution_count": 64,
   "metadata": {},
   "outputs": [],
   "source": [
    "# df = pd.read_csv('/media/walml/mirror/galaxy_zoo/older_projects/weekly_dumps/2017-10-15_galaxy_zoo_ukidss_classifications.csv')\n",
    "# image_root = '/home/walml/repos/galaxy-datasets/derived_data/ukidss'\n",
    "\n",
    "\n",
    "\n",
    "\n",
    "# nope, there rest are not here - though possibly they are simply on a different S3 subfolder. I can check with Zach.\n",
    "\n",
    "\n",
    "\n",
    "# df = pd.read_csv('/media/walml/mirror/galaxy_zoo/older_projects/weekly_dumps/2017-10-15_galaxy_zoo_illustris_classifications.csv')\n",
    "# image_root = '/home/walml/repos/galaxy-datasets/derived_data/illustris'\n",
    "\n",
    "# df = pd.read_csv('/media/walml/mirror/galaxy_zoo/older_projects/weekly_dumps/2017-10-15_galaxy_zoo_gama09_classifications.csv')\n",
    "# image_root = '/home/walml/repos/galaxy-datasets/derived_data/gama09'\n",
    "\n",
    "df = pd.read_csv('/media/walml/mirror/galaxy_zoo/older_projects/weekly_dumps/2017-10-22_galaxy_zoo_gama12_classifications.csv')\n",
    "image_root = '/home/walml/repos/galaxy-datasets/derived_data/gama12'"
   ]
  },
  {
   "cell_type": "code",
   "execution_count": 65,
   "metadata": {},
   "outputs": [
    {
     "data": {
      "text/html": [
       "<div>\n",
       "<style scoped>\n",
       "    .dataframe tbody tr th:only-of-type {\n",
       "        vertical-align: middle;\n",
       "    }\n",
       "\n",
       "    .dataframe tbody tr th {\n",
       "        vertical-align: top;\n",
       "    }\n",
       "\n",
       "    .dataframe thead th {\n",
       "        text-align: right;\n",
       "    }\n",
       "</style>\n",
       "<table border=\"1\" class=\"dataframe\">\n",
       "  <thead>\n",
       "    <tr style=\"text-align: right;\">\n",
       "      <th></th>\n",
       "      <th>id</th>\n",
       "      <th>subject_id</th>\n",
       "      <th>user</th>\n",
       "      <th>created_at</th>\n",
       "      <th>lang</th>\n",
       "      <th>user_agent</th>\n",
       "      <th>gama-0</th>\n",
       "      <th>gama-1</th>\n",
       "      <th>gama-2</th>\n",
       "      <th>gama-3</th>\n",
       "      <th>gama-4</th>\n",
       "      <th>gama-5</th>\n",
       "      <th>gama-6</th>\n",
       "      <th>gama-7</th>\n",
       "      <th>gama-8</th>\n",
       "      <th>gama-9</th>\n",
       "      <th>gama-10</th>\n",
       "      <th>gama-11</th>\n",
       "    </tr>\n",
       "  </thead>\n",
       "  <tbody>\n",
       "    <tr>\n",
       "      <th>17370</th>\n",
       "      <td>595b8ad361ec367412000991</td>\n",
       "      <td>5857e790d369fd00400061ed</td>\n",
       "      <td>MauiWaui</td>\n",
       "      <td>2017-07-04 12:32:19 UTC</td>\n",
       "      <td>de</td>\n",
       "      <td>unknown</td>\n",
       "      <td>a-1</td>\n",
       "      <td>a-1</td>\n",
       "      <td>a-1</td>\n",
       "      <td>a-1</td>\n",
       "      <td>a-0</td>\n",
       "      <td>NaN</td>\n",
       "      <td>NaN</td>\n",
       "      <td>NaN</td>\n",
       "      <td>NaN</td>\n",
       "      <td>a-3</td>\n",
       "      <td>a-0</td>\n",
       "      <td>a-1</td>\n",
       "    </tr>\n",
       "  </tbody>\n",
       "</table>\n",
       "</div>"
      ],
      "text/plain": [
       "                             id                subject_id      user  \\\n",
       "17370  595b8ad361ec367412000991  5857e790d369fd00400061ed  MauiWaui   \n",
       "\n",
       "                    created_at lang user_agent gama-0 gama-1 gama-2 gama-3  \\\n",
       "17370  2017-07-04 12:32:19 UTC   de    unknown    a-1    a-1    a-1    a-1   \n",
       "\n",
       "      gama-4 gama-5 gama-6 gama-7 gama-8 gama-9 gama-10 gama-11  \n",
       "17370    a-0    NaN    NaN    NaN    NaN    a-3     a-0     a-1  "
      ]
     },
     "execution_count": 65,
     "metadata": {},
     "output_type": "execute_result"
    }
   ],
   "source": [
    "df.sample()"
   ]
  },
  {
   "cell_type": "code",
   "execution_count": 58,
   "metadata": {},
   "outputs": [
    {
     "data": {
      "text/plain": [
       "11507"
      ]
     },
     "execution_count": 58,
     "metadata": {},
     "output_type": "execute_result"
    }
   ],
   "source": [
    "subject_df = df[['subject_id']].drop_duplicates()\n",
    "len(subject_df)"
   ]
  },
  {
   "cell_type": "code",
   "execution_count": 48,
   "metadata": {},
   "outputs": [
    {
     "data": {
      "text/html": [
       "<div>\n",
       "<style scoped>\n",
       "    .dataframe tbody tr th:only-of-type {\n",
       "        vertical-align: middle;\n",
       "    }\n",
       "\n",
       "    .dataframe tbody tr th {\n",
       "        vertical-align: top;\n",
       "    }\n",
       "\n",
       "    .dataframe thead th {\n",
       "        text-align: right;\n",
       "    }\n",
       "</style>\n",
       "<table border=\"1\" class=\"dataframe\">\n",
       "  <thead>\n",
       "    <tr style=\"text-align: right;\">\n",
       "      <th></th>\n",
       "      <th>subject_id</th>\n",
       "    </tr>\n",
       "  </thead>\n",
       "  <tbody>\n",
       "    <tr>\n",
       "      <th>0</th>\n",
       "      <td>5857c531d369fd0040005911</td>\n",
       "    </tr>\n",
       "    <tr>\n",
       "      <th>1</th>\n",
       "      <td>5857c532d369fd00400059df</td>\n",
       "    </tr>\n",
       "    <tr>\n",
       "      <th>2</th>\n",
       "      <td>5857c4a8d369fd0040000377</td>\n",
       "    </tr>\n",
       "    <tr>\n",
       "      <th>3</th>\n",
       "      <td>5857c4a5d369fd0040000125</td>\n",
       "    </tr>\n",
       "    <tr>\n",
       "      <th>4</th>\n",
       "      <td>5857c4a7d369fd004000023d</td>\n",
       "    </tr>\n",
       "    <tr>\n",
       "      <th>...</th>\n",
       "      <td>...</td>\n",
       "    </tr>\n",
       "    <tr>\n",
       "      <th>167178</th>\n",
       "      <td>5857c515d369fd00400043fb</td>\n",
       "    </tr>\n",
       "    <tr>\n",
       "      <th>169795</th>\n",
       "      <td>5857c4dcd369fd0040001abf</td>\n",
       "    </tr>\n",
       "    <tr>\n",
       "      <th>182242</th>\n",
       "      <td>5857c4e3d369fd0040001f73</td>\n",
       "    </tr>\n",
       "    <tr>\n",
       "      <th>183611</th>\n",
       "      <td>5857c4e0d369fd0040001d55</td>\n",
       "    </tr>\n",
       "    <tr>\n",
       "      <th>188389</th>\n",
       "      <td>5857c512d369fd00400041fb</td>\n",
       "    </tr>\n",
       "  </tbody>\n",
       "</table>\n",
       "<p>11507 rows × 1 columns</p>\n",
       "</div>"
      ],
      "text/plain": [
       "                      subject_id\n",
       "0       5857c531d369fd0040005911\n",
       "1       5857c532d369fd00400059df\n",
       "2       5857c4a8d369fd0040000377\n",
       "3       5857c4a5d369fd0040000125\n",
       "4       5857c4a7d369fd004000023d\n",
       "...                          ...\n",
       "167178  5857c515d369fd00400043fb\n",
       "169795  5857c4dcd369fd0040001abf\n",
       "182242  5857c4e3d369fd0040001f73\n",
       "183611  5857c4e0d369fd0040001d55\n",
       "188389  5857c512d369fd00400041fb\n",
       "\n",
       "[11507 rows x 1 columns]"
      ]
     },
     "execution_count": 48,
     "metadata": {},
     "output_type": "execute_result"
    }
   ],
   "source": [
    "subject_df"
   ]
  },
  {
   "cell_type": "code",
   "execution_count": 49,
   "metadata": {},
   "outputs": [],
   "source": [
    "\n",
    "subject_df['subfolder'] = subject_df['subject_id'].apply(lambda x: x[:21])\n",
    "# subject_df['file_exists']\n",
    "# subject_df['subfolder'].value_counts()"
   ]
  },
  {
   "cell_type": "code",
   "execution_count": 50,
   "metadata": {},
   "outputs": [
    {
     "data": {
      "text/plain": [
       "'https://s3.amazonaws.com/www.galaxyzoo.org/subjects/standard/5857c531d369fd0040005911.jpg'"
      ]
     },
     "execution_count": 50,
     "metadata": {},
     "output_type": "execute_result"
    }
   ],
   "source": [
    "subject_df['url'] = 'https://s3.amazonaws.com/www.galaxyzoo.org/subjects/standard/' + subject_df['subject_id'] + '.jpg'\n",
    "subject_df['url'].iloc[0]"
   ]
  },
  {
   "cell_type": "code",
   "execution_count": 51,
   "metadata": {},
   "outputs": [],
   "source": [
    "# subject_df['file_loc'] = image_root + '/' + subject_df['subfolder'] + '/' + subject_df['subject_id'] + '.jpg'\n",
    "# subject_df['file_loc'].iloc[0]"
   ]
  },
  {
   "cell_type": "code",
   "execution_count": 52,
   "metadata": {},
   "outputs": [],
   "source": [
    "# pull all of these with wget\n",
    "with open(image_root + '/latest_image_urls.txt', 'w') as f:\n",
    "    # missing files only\n",
    "    # f.write('\\n'.join(df[~df['file_exists']]['url'].values))\n",
    "    f.write('\\n'.join(subject_df['url'].values))"
   ]
  },
  {
   "cell_type": "code",
   "execution_count": 53,
   "metadata": {},
   "outputs": [],
   "source": [
    "# cat latest_image_urls.txt  | xargs -n10 -P4 wget --continue --quiet"
   ]
  },
  {
   "cell_type": "code",
   "execution_count": null,
   "metadata": {},
   "outputs": [],
   "source": []
  }
 ],
 "metadata": {
  "kernelspec": {
   "display_name": "Python 3",
   "language": "python",
   "name": "python3"
  },
  "language_info": {
   "codemirror_mode": {
    "name": "ipython",
    "version": 3
   },
   "file_extension": ".py",
   "mimetype": "text/x-python",
   "name": "python",
   "nbconvert_exporter": "python",
   "pygments_lexer": "ipython3",
   "version": "3.9.0"
  }
 },
 "nbformat": 4,
 "nbformat_minor": 2
}
